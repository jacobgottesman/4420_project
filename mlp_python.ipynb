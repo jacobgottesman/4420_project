{
 "cells": [
  {
   "cell_type": "code",
   "execution_count": 1,
   "metadata": {},
   "outputs": [],
   "source": [
    "import pandas as pd \n",
    "import torch\n",
    "import torch.nn as nn\n",
    "import torch.optim as optim\n",
    "from torch.utils.data import DataLoader\n",
    "from torchvision import datasets, transforms\n",
    "import matplotlib.pyplot as plt"
   ]
  },
  {
   "cell_type": "code",
   "execution_count": 2,
   "metadata": {},
   "outputs": [
    {
     "data": {
      "text/html": [
       "<div>\n",
       "<style scoped>\n",
       "    .dataframe tbody tr th:only-of-type {\n",
       "        vertical-align: middle;\n",
       "    }\n",
       "\n",
       "    .dataframe tbody tr th {\n",
       "        vertical-align: top;\n",
       "    }\n",
       "\n",
       "    .dataframe thead th {\n",
       "        text-align: right;\n",
       "    }\n",
       "</style>\n",
       "<table border=\"1\" class=\"dataframe\">\n",
       "  <thead>\n",
       "    <tr style=\"text-align: right;\">\n",
       "      <th></th>\n",
       "      <th>SEASON_ID</th>\n",
       "      <th>PLAYER_ID</th>\n",
       "      <th>PLAYER_NAME</th>\n",
       "      <th>TEAM_ID</th>\n",
       "      <th>TEAM_ABBREVIATION</th>\n",
       "      <th>TEAM_NAME</th>\n",
       "      <th>TYPE_GROUPING</th>\n",
       "      <th>PERCENTILE_Isolation</th>\n",
       "      <th>GP_Isolation</th>\n",
       "      <th>POSS_PCT_Isolation</th>\n",
       "      <th>...</th>\n",
       "      <th>TOV_POSS_PCT_Misc</th>\n",
       "      <th>SF_POSS_PCT_Misc</th>\n",
       "      <th>PLUSONE_POSS_PCT_Misc</th>\n",
       "      <th>SCORE_POSS_PCT_Misc</th>\n",
       "      <th>EFG_PCT_Misc</th>\n",
       "      <th>POSS_Misc</th>\n",
       "      <th>PTS_Misc</th>\n",
       "      <th>FGM_Misc</th>\n",
       "      <th>FGA_Misc</th>\n",
       "      <th>FGMX_Misc</th>\n",
       "    </tr>\n",
       "  </thead>\n",
       "  <tbody>\n",
       "    <tr>\n",
       "      <th>0</th>\n",
       "      <td>22015</td>\n",
       "      <td>708</td>\n",
       "      <td>Kevin Garnett</td>\n",
       "      <td>1610612750</td>\n",
       "      <td>MIN</td>\n",
       "      <td>Minnesota Timberwolves</td>\n",
       "      <td>Offensive</td>\n",
       "      <td>NaN</td>\n",
       "      <td>NaN</td>\n",
       "      <td>NaN</td>\n",
       "      <td>...</td>\n",
       "      <td>0.824</td>\n",
       "      <td>0.000</td>\n",
       "      <td>0.00</td>\n",
       "      <td>0.176</td>\n",
       "      <td>0.000</td>\n",
       "      <td>0.4</td>\n",
       "      <td>0.1</td>\n",
       "      <td>0.0</td>\n",
       "      <td>0.0</td>\n",
       "      <td>0.0</td>\n",
       "    </tr>\n",
       "    <tr>\n",
       "      <th>1</th>\n",
       "      <td>22015</td>\n",
       "      <td>977</td>\n",
       "      <td>Kobe Bryant</td>\n",
       "      <td>1610612747</td>\n",
       "      <td>LAL</td>\n",
       "      <td>Los Angeles Lakers</td>\n",
       "      <td>Offensive</td>\n",
       "      <td>0.292</td>\n",
       "      <td>66.0</td>\n",
       "      <td>0.199</td>\n",
       "      <td>...</td>\n",
       "      <td>0.407</td>\n",
       "      <td>0.051</td>\n",
       "      <td>0.00</td>\n",
       "      <td>0.254</td>\n",
       "      <td>0.119</td>\n",
       "      <td>0.9</td>\n",
       "      <td>0.5</td>\n",
       "      <td>0.0</td>\n",
       "      <td>0.3</td>\n",
       "      <td>0.3</td>\n",
       "    </tr>\n",
       "    <tr>\n",
       "      <th>2</th>\n",
       "      <td>22015</td>\n",
       "      <td>1495</td>\n",
       "      <td>Tim Duncan</td>\n",
       "      <td>1610612759</td>\n",
       "      <td>SAS</td>\n",
       "      <td>San Antonio Spurs</td>\n",
       "      <td>Offensive</td>\n",
       "      <td>NaN</td>\n",
       "      <td>NaN</td>\n",
       "      <td>NaN</td>\n",
       "      <td>...</td>\n",
       "      <td>0.803</td>\n",
       "      <td>0.015</td>\n",
       "      <td>0.00</td>\n",
       "      <td>0.167</td>\n",
       "      <td>0.600</td>\n",
       "      <td>1.1</td>\n",
       "      <td>0.3</td>\n",
       "      <td>0.0</td>\n",
       "      <td>0.1</td>\n",
       "      <td>0.0</td>\n",
       "    </tr>\n",
       "    <tr>\n",
       "      <th>3</th>\n",
       "      <td>22015</td>\n",
       "      <td>1713</td>\n",
       "      <td>Vince Carter</td>\n",
       "      <td>1610612763</td>\n",
       "      <td>MEM</td>\n",
       "      <td>Memphis Grizzlies</td>\n",
       "      <td>Offensive</td>\n",
       "      <td>0.021</td>\n",
       "      <td>60.0</td>\n",
       "      <td>0.049</td>\n",
       "      <td>...</td>\n",
       "      <td>0.286</td>\n",
       "      <td>0.071</td>\n",
       "      <td>0.04</td>\n",
       "      <td>0.500</td>\n",
       "      <td>0.500</td>\n",
       "      <td>0.5</td>\n",
       "      <td>0.5</td>\n",
       "      <td>0.1</td>\n",
       "      <td>0.2</td>\n",
       "      <td>0.1</td>\n",
       "    </tr>\n",
       "    <tr>\n",
       "      <th>4</th>\n",
       "      <td>22015</td>\n",
       "      <td>1717</td>\n",
       "      <td>Dirk Nowitzki</td>\n",
       "      <td>1610612742</td>\n",
       "      <td>DAL</td>\n",
       "      <td>Dallas Mavericks</td>\n",
       "      <td>Offensive</td>\n",
       "      <td>0.938</td>\n",
       "      <td>75.0</td>\n",
       "      <td>0.046</td>\n",
       "      <td>...</td>\n",
       "      <td>0.383</td>\n",
       "      <td>0.000</td>\n",
       "      <td>0.00</td>\n",
       "      <td>0.500</td>\n",
       "      <td>0.222</td>\n",
       "      <td>0.8</td>\n",
       "      <td>0.7</td>\n",
       "      <td>0.0</td>\n",
       "      <td>0.1</td>\n",
       "      <td>0.1</td>\n",
       "    </tr>\n",
       "  </tbody>\n",
       "</table>\n",
       "<p>5 rows × 184 columns</p>\n",
       "</div>"
      ],
      "text/plain": [
       "   SEASON_ID  PLAYER_ID    PLAYER_NAME     TEAM_ID TEAM_ABBREVIATION  \\\n",
       "0      22015        708  Kevin Garnett  1610612750               MIN   \n",
       "1      22015        977    Kobe Bryant  1610612747               LAL   \n",
       "2      22015       1495     Tim Duncan  1610612759               SAS   \n",
       "3      22015       1713   Vince Carter  1610612763               MEM   \n",
       "4      22015       1717  Dirk Nowitzki  1610612742               DAL   \n",
       "\n",
       "                TEAM_NAME TYPE_GROUPING  PERCENTILE_Isolation  GP_Isolation  \\\n",
       "0  Minnesota Timberwolves     Offensive                   NaN           NaN   \n",
       "1      Los Angeles Lakers     Offensive                 0.292          66.0   \n",
       "2       San Antonio Spurs     Offensive                   NaN           NaN   \n",
       "3       Memphis Grizzlies     Offensive                 0.021          60.0   \n",
       "4        Dallas Mavericks     Offensive                 0.938          75.0   \n",
       "\n",
       "   POSS_PCT_Isolation  ...  TOV_POSS_PCT_Misc  SF_POSS_PCT_Misc  \\\n",
       "0                 NaN  ...              0.824             0.000   \n",
       "1               0.199  ...              0.407             0.051   \n",
       "2                 NaN  ...              0.803             0.015   \n",
       "3               0.049  ...              0.286             0.071   \n",
       "4               0.046  ...              0.383             0.000   \n",
       "\n",
       "   PLUSONE_POSS_PCT_Misc  SCORE_POSS_PCT_Misc  EFG_PCT_Misc  POSS_Misc  \\\n",
       "0                   0.00                0.176         0.000        0.4   \n",
       "1                   0.00                0.254         0.119        0.9   \n",
       "2                   0.00                0.167         0.600        1.1   \n",
       "3                   0.04                0.500         0.500        0.5   \n",
       "4                   0.00                0.500         0.222        0.8   \n",
       "\n",
       "   PTS_Misc  FGM_Misc  FGA_Misc  FGMX_Misc  \n",
       "0       0.1       0.0       0.0        0.0  \n",
       "1       0.5       0.0       0.3        0.3  \n",
       "2       0.3       0.0       0.1        0.0  \n",
       "3       0.5       0.1       0.2        0.1  \n",
       "4       0.7       0.0       0.1        0.1  \n",
       "\n",
       "[5 rows x 184 columns]"
      ]
     },
     "execution_count": 2,
     "metadata": {},
     "output_type": "execute_result"
    }
   ],
   "source": [
    "df = pd.read_csv('synergy_all_playtypes_2015_to_2025.csv')\n",
    "df.head()"
   ]
  },
  {
   "cell_type": "code",
   "execution_count": 3,
   "metadata": {},
   "outputs": [
    {
     "data": {
      "text/plain": [
       "(array([1.000e+00, 0.000e+00, 0.000e+00, 0.000e+00, 0.000e+00, 1.000e+00,\n",
       "        3.000e+00, 1.000e+00, 4.000e+00, 9.000e+00, 6.000e+00, 6.000e+00,\n",
       "        9.000e+00, 7.000e+00, 1.500e+01, 1.500e+01, 1.700e+01, 1.500e+01,\n",
       "        1.100e+01, 1.200e+01, 1.600e+01, 1.600e+01, 2.100e+01, 2.300e+01,\n",
       "        1.700e+01, 2.700e+01, 3.100e+01, 2.700e+01, 3.600e+01, 3.400e+01,\n",
       "        4.600e+01, 3.900e+01, 4.500e+01, 4.800e+01, 5.700e+01, 5.900e+01,\n",
       "        6.600e+01, 4.800e+01, 8.800e+01, 8.100e+01, 9.200e+01, 1.140e+02,\n",
       "        1.400e+02, 1.430e+02, 1.920e+02, 3.120e+02, 5.220e+02, 1.208e+03,\n",
       "        1.032e+03, 1.000e+00]),\n",
       " array([0.084  , 0.10294, 0.12188, 0.14082, 0.15976, 0.1787 , 0.19764,\n",
       "        0.21658, 0.23552, 0.25446, 0.2734 , 0.29234, 0.31128, 0.33022,\n",
       "        0.34916, 0.3681 , 0.38704, 0.40598, 0.42492, 0.44386, 0.4628 ,\n",
       "        0.48174, 0.50068, 0.51962, 0.53856, 0.5575 , 0.57644, 0.59538,\n",
       "        0.61432, 0.63326, 0.6522 , 0.67114, 0.69008, 0.70902, 0.72796,\n",
       "        0.7469 , 0.76584, 0.78478, 0.80372, 0.82266, 0.8416 , 0.86054,\n",
       "        0.87948, 0.89842, 0.91736, 0.9363 , 0.95524, 0.97418, 0.99312,\n",
       "        1.01206, 1.031  ]),\n",
       " <BarContainer object of 50 artists>)"
      ]
     },
     "execution_count": 3,
     "metadata": {},
     "output_type": "execute_result"
    },
    {
     "data": {
      "image/png": "[encoded data removed]",
      "text/plain": [
       "<Figure size 640x480 with 1 Axes>"
      ]
     },
     "metadata": {},
     "output_type": "display_data"
    }
   ],
   "source": [
    "poss_cols = [col for col in df.columns if 'POSS_PCT' == col[:8]]\n",
    "\n",
    "df['total_poss'] = df[poss_cols].sum(axis=1)\n",
    "\n",
    "plt.hist(df['total_poss'], bins=50)"
   ]
  },
  {
   "cell_type": "code",
   "execution_count": 4,
   "metadata": {},
   "outputs": [],
   "source": [
    "# get rid of extra columns\n",
    "to_delete = ['FGA', 'FGM', 'FGX', 'PERCENTILE', 'POSS', 'PTS', 'GP']\n",
    "cols_to_delete = []\n",
    "for col in df.columns:\n",
    "\n",
    "    for i in to_delete:\n",
    "        if i == col[:len(i)] and 'PCT' not in col:\n",
    "            cols_to_delete.append(col)\n",
    "\n",
    "cols_to_delete += ['PLAYER_ID', 'TEAM_ID', 'TYPE_GROUPING']\n",
    "\n",
    "df = df.drop(columns=cols_to_delete)\n",
    "df.fillna(0, inplace=True)"
   ]
  },
  {
   "cell_type": "code",
   "execution_count": 5,
   "metadata": {},
   "outputs": [],
   "source": [
    "X = df.drop(columns=['SEASON_ID', 'PLAYER_NAME', 'TEAM_ABBREVIATION', 'TEAM_NAME', 'SEASON']).to_numpy()\n",
    "\n",
    "from sklearn.model_selection import train_test_split\n",
    "X_train, X_test, name_train, name_test= train_test_split(X, df[['PLAYER_NAME','SEASON']], test_size=0.2, random_state=42)"
   ]
  },
  {
   "cell_type": "code",
   "execution_count": 12,
   "metadata": {},
   "outputs": [],
   "source": [
    "torch.manual_seed(42)\n",
    "\n",
    "\n",
    "class AutoEncoder(nn.Module):\n",
    "    def __init__(self, input_dim, hidden_dim, encoding_dim):\n",
    "        super(AutoEncoder, self).__init__()\n",
    "\n",
    "        # create encoder\n",
    "        self.encoder = nn.Sequential(\n",
    "            nn.Linear(input_dim, hidden_dim),\n",
    "            nn.ReLU(True),\n",
    "            nn.Linear(hidden_dim, int(hidden_dim / 2)),\n",
    "            nn.ReLU(True),\n",
    "            nn.Linear(int(hidden_dim / 2), encoding_dim),\\\n",
    "            nn.ReLU(True)\n",
    "        )\n",
    "        # create decoder\n",
    "        self.decoder = nn.Sequential(\n",
    "            nn.Linear(encoding_dim, int(hidden_dim / 2)),\n",
    "            nn.ReLU(True),\n",
    "            nn.Linear(int(hidden_dim / 2), hidden_dim),\n",
    "            nn.ReLU(True),\n",
    "            nn.Linear(hidden_dim, input_dim),\n",
    "            nn.ReLU()\n",
    "        )\n",
    "\n",
    "    # create the forward pass\n",
    "    def forward(self, x):\n",
    "        x = self.encoder(x)\n",
    "        x = self.decoder(x)\n",
    "        return x\n",
    "    \n",
    "    # create encode function\n",
    "    def encode(self, x):\n",
    "        x = self.encoder(x)\n",
    "        return x\n",
    "    \n",
    "# create training function\n",
    "def train_autoencoder(model, data_loader, criterion, optimizer, num_epochs):\n",
    "    for epoch in range(num_epochs):\n",
    "        for data in data_loader:\n",
    "            # zero the parameter gradients\n",
    "            optimizer.zero_grad()\n",
    "\n",
    "            # forward pass\n",
    "            outputs = model(data)\n",
    "            loss = criterion(outputs, data)\n",
    "\n",
    "            # backward pass and optimization\n",
    "            loss.backward()\n",
    "            optimizer.step()\n",
    "\n",
    "        # print(f'Epoch [{epoch + 1}/{num_epochs}], Loss: {loss.item():.4f}')"
   ]
  },
  {
   "cell_type": "code",
   "execution_count": 21,
   "metadata": {},
   "outputs": [
    {
     "name": "stdout",
     "output_type": "stream",
     "text": [
      "Test Loss: 0.0504 With Embedding Dim: 2\n",
      "Test Loss: 0.0366 With Embedding Dim: 3\n",
      "Test Loss: 0.0503 With Embedding Dim: 4\n"
     ]
    }
   ],
   "source": [
    "X_train_tensor = torch.tensor(X_train, dtype=torch.float32)\n",
    "X_test_tensor = torch.tensor(X_test, dtype=torch.float32)\n",
    "train_loader = DataLoader(X_train_tensor, batch_size=32, shuffle=True)\n",
    "test_loader = DataLoader(X_test_tensor, batch_size=32, shuffle=False)\n",
    "\n",
    "\n",
    "train_loader = DataLoader(X_train_tensor, batch_size=32, shuffle=True)\n",
    "test_loader = DataLoader(X_test_tensor, batch_size=32, shuffle=False)\n",
    "\n",
    "# set the hyperparameters\n",
    "input_dim = X_train.shape[1]\n",
    "hidden_dim = 128\n",
    "encoded_dim = 3\n",
    "batch_size = 32\n",
    "num_epochs = 50\n",
    "learning_rate = 0.0001\n",
    "\n",
    "\n",
    "for embed_dim in range(2,5):\n",
    "\n",
    "    encoded_dim = embed_dim\n",
    "\n",
    "\n",
    "    # create the model\n",
    "    model = AutoEncoder(input_dim, hidden_dim, encoded_dim)\n",
    "    # create the loss function\n",
    "    criterion = nn.MSELoss()\n",
    "    # create the optimizer\n",
    "    optimizer = optim.Adam(model.parameters(), lr=learning_rate)\n",
    "\n",
    "    # train the model\n",
    "    train_autoencoder(model, train_loader, criterion, optimizer, num_epochs)\n",
    "\n",
    "    # test the model\n",
    "    model.eval()\n",
    "    with torch.no_grad():\n",
    "        for data in test_loader:\n",
    "            outputs = model(data)\n",
    "            loss = criterion(outputs, data)\n",
    "            print(f'Test Loss: {loss.item():.4f} With Embedding Dim: {embed_dim}')\n",
    "            break"
   ]
  },
  {
   "cell_type": "code",
   "execution_count": 17,
   "metadata": {},
   "outputs": [
    {
     "name": "stdout",
     "output_type": "stream",
     "text": [
      "Test Loss: 0.0390 With Embedding Dim: 3\n"
     ]
    },
    {
     "data": {
      "text/html": [
       "<div>\n",
       "<style scoped>\n",
       "    .dataframe tbody tr th:only-of-type {\n",
       "        vertical-align: middle;\n",
       "    }\n",
       "\n",
       "    .dataframe tbody tr th {\n",
       "        vertical-align: top;\n",
       "    }\n",
       "\n",
       "    .dataframe thead th {\n",
       "        text-align: right;\n",
       "    }\n",
       "</style>\n",
       "<table border=\"1\" class=\"dataframe\">\n",
       "  <thead>\n",
       "    <tr style=\"text-align: right;\">\n",
       "      <th></th>\n",
       "      <th>0</th>\n",
       "      <th>1</th>\n",
       "      <th>2</th>\n",
       "      <th>PLAYER_NAME</th>\n",
       "      <th>SEASON</th>\n",
       "    </tr>\n",
       "  </thead>\n",
       "  <tbody>\n",
       "    <tr>\n",
       "      <th>0</th>\n",
       "      <td>3.334219</td>\n",
       "      <td>4.131370</td>\n",
       "      <td>2.372295</td>\n",
       "      <td>Taurean Prince</td>\n",
       "      <td>2017-18</td>\n",
       "    </tr>\n",
       "    <tr>\n",
       "      <th>1</th>\n",
       "      <td>3.520122</td>\n",
       "      <td>4.427368</td>\n",
       "      <td>2.169397</td>\n",
       "      <td>Terry Rozier</td>\n",
       "      <td>2019-20</td>\n",
       "    </tr>\n",
       "    <tr>\n",
       "      <th>2</th>\n",
       "      <td>1.361443</td>\n",
       "      <td>3.186098</td>\n",
       "      <td>1.647641</td>\n",
       "      <td>Kenrich Williams</td>\n",
       "      <td>2022-23</td>\n",
       "    </tr>\n",
       "    <tr>\n",
       "      <th>3</th>\n",
       "      <td>4.743515</td>\n",
       "      <td>2.194544</td>\n",
       "      <td>2.685072</td>\n",
       "      <td>Jaden Hardy</td>\n",
       "      <td>2022-23</td>\n",
       "    </tr>\n",
       "    <tr>\n",
       "      <th>4</th>\n",
       "      <td>4.587844</td>\n",
       "      <td>1.294222</td>\n",
       "      <td>2.791007</td>\n",
       "      <td>Matt Thomas</td>\n",
       "      <td>2019-20</td>\n",
       "    </tr>\n",
       "  </tbody>\n",
       "</table>\n",
       "</div>"
      ],
      "text/plain": [
       "          0         1         2       PLAYER_NAME   SEASON\n",
       "0  3.334219  4.131370  2.372295    Taurean Prince  2017-18\n",
       "1  3.520122  4.427368  2.169397      Terry Rozier  2019-20\n",
       "2  1.361443  3.186098  1.647641  Kenrich Williams  2022-23\n",
       "3  4.743515  2.194544  2.685072       Jaden Hardy  2022-23\n",
       "4  4.587844  1.294222  2.791007       Matt Thomas  2019-20"
      ]
     },
     "execution_count": 17,
     "metadata": {},
     "output_type": "execute_result"
    }
   ],
   "source": [
    "encoded_dim = 3\n",
    "\n",
    "\n",
    "# create the model\n",
    "model = AutoEncoder(input_dim, hidden_dim, encoded_dim)\n",
    "# create the loss function\n",
    "criterion = nn.MSELoss()\n",
    "# create the optimizer\n",
    "optimizer = optim.Adam(model.parameters(), lr=learning_rate)\n",
    "\n",
    "# train the model\n",
    "train_autoencoder(model, train_loader, criterion, optimizer, num_epochs)\n",
    "\n",
    "model.eval()\n",
    "with torch.no_grad():\n",
    "    for data in test_loader:\n",
    "        outputs = model(data)\n",
    "        loss = criterion(outputs, data)\n",
    "        print(f'Test Loss: {loss.item():.4f} With Embedding Dim: {encoded_dim}')\n",
    "        break\n",
    "\n",
    "\n",
    "x_test_results = model.encode(X_test_tensor)\n",
    "x_test_results = x_test_results.detach().numpy()\n",
    "x_test_results = pd.DataFrame(x_test_results)\n",
    "x_test_results[['PLAYER_NAME', 'SEASON']] = name_test.reset_index(drop=True)\n",
    "\n",
    "x_test_results.head()\n",
    "\n",
    "\n"
   ]
  },
  {
   "cell_type": "code",
   "execution_count": 18,
   "metadata": {},
   "outputs": [
    {
     "data": {
      "application/vnd.plotly.v1+json": {
       "config": {
        "plotlyServerURL": "https://plot.ly"
       },
       "data": [
        {
         "customdata": [
          [
           "Taurean Prince",
           "2017-18"
          ],
          [
           "Terry Rozier",
           "2019-20"
          ],
          [
           "Kenrich Williams",
           "2022-23"
          ],
          [
           "Jaden Hardy",
           "2022-23"
          ],
          [
           "Matt Thomas",
           "2019-20"
          ],
          [
           "Kyle O'Quinn",
           "2015-16"
          ],
          [
           "Admiral Schofield",
           "2022-23"
          ],
          [
           "Cody Zeller",
           "2020-21"
          ],
          [
           "Bennedict Mathurin",
           "2022-23"
          ],
          [
           "Danny Green",
           "2017-18"
          ],
          [
           "Lindy Waters III",
           "2024-25"
          ],
          [
           "George Hill",
           "2016-17"
          ],
          [
           "Herbert Jones",
           "2023-24"
          ],
          [
           "Klay Thompson",
           "2023-24"
          ],
          [
           "Jeremy Lamb",
           "2019-20"
          ],
          [
           "Oshae Brissett",
           "2020-21"
          ],
          [
           "Kent Bazemore",
           "2015-16"
          ],
          [
           "Jordan Clarkson",
           "2015-16"
          ],
          [
           "Doug McDermott",
           "2017-18"
          ],
          [
           "Luc Mbah a Moute",
           "2017-18"
          ],
          [
           "Ignas Brazdeikis",
           "2020-21"
          ],
          [
           "Duop Reath",
           "2024-25"
          ],
          [
           "Bruce Brown",
           "2023-24"
          ],
          [
           "Tim Frazier",
           "2020-21"
          ],
          [
           "Robin Lopez",
           "2017-18"
          ],
          [
           "Derrick White",
           "2021-22"
          ],
          [
           "Aaron Nesmith",
           "2020-21"
          ],
          [
           "David Lee",
           "2016-17"
          ],
          [
           "Luka Dončić",
           "2020-21"
          ],
          [
           "Jared Butler",
           "2022-23"
          ],
          [
           "Mitchell Robinson",
           "2022-23"
          ],
          [
           "Scottie Barnes",
           "2021-22"
          ],
          [
           "Maxi Kleber",
           "2020-21"
          ],
          [
           "Tony Bradley",
           "2021-22"
          ],
          [
           "Rodions Kurucs",
           "2018-19"
          ],
          [
           "Devonte' Graham",
           "2018-19"
          ],
          [
           "Kyle Lowry",
           "2021-22"
          ],
          [
           "Corey Kispert",
           "2023-24"
          ],
          [
           "CJ McCollum",
           "2016-17"
          ],
          [
           "Keita Bates-Diop",
           "2018-19"
          ],
          [
           "Jrue Holiday",
           "2022-23"
          ],
          [
           "Rodney Stuckey",
           "2016-17"
          ],
          [
           "Brian Roberts",
           "2016-17"
          ],
          [
           "Patrick Beverley",
           "2021-22"
          ],
          [
           "AJ Johnson",
           "2024-25"
          ],
          [
           "Bryce Dejean-Jones",
           "2015-16"
          ],
          [
           "Enes Freedom",
           "2015-16"
          ],
          [
           "Kirk Hinrich",
           "2015-16"
          ],
          [
           "Darius Bazley",
           "2021-22"
          ],
          [
           "DeMarcus Cousins",
           "2015-16"
          ],
          [
           "Al Horford",
           "2016-17"
          ],
          [
           "Rodney Hood",
           "2018-19"
          ],
          [
           "Lou Williams",
           "2016-17"
          ],
          [
           "Kevin Huerter",
           "2024-25"
          ],
          [
           "Jalen Duren",
           "2022-23"
          ],
          [
           "Andre Roberson",
           "2017-18"
          ],
          [
           "Jeremiah Robinson-Earl",
           "2021-22"
          ],
          [
           "Lance Stephenson",
           "2016-17"
          ],
          [
           "T.J. McConnell",
           "2015-16"
          ],
          [
           "Yuta Watanabe",
           "2022-23"
          ],
          [
           "Kevin Love",
           "2020-21"
          ],
          [
           "Thomas Bryant",
           "2023-24"
          ],
          [
           "Justin Jackson",
           "2019-20"
          ],
          [
           "Alec Burks",
           "2019-20"
          ],
          [
           "Josh Green",
           "2022-23"
          ],
          [
           "Jalen Suggs",
           "2021-22"
          ],
          [
           "Tyus Jones",
           "2018-19"
          ],
          [
           "Johnathan Williams",
           "2019-20"
          ],
          [
           "Isaiah Canaan",
           "2018-19"
          ],
          [
           "Damion Lee",
           "2022-23"
          ],
          [
           "Kenneth Faried",
           "2016-17"
          ],
          [
           "Nene",
           "2015-16"
          ],
          [
           "David Roddy",
           "2022-23"
          ],
          [
           "Bol Bol",
           "2022-23"
          ],
          [
           "Andrew Wiggins",
           "2015-16"
          ],
          [
           "Tomas Satoransky",
           "2016-17"
          ],
          [
           "Tim Hardaway Jr.",
           "2021-22"
          ],
          [
           "D'Angelo Russell",
           "2018-19"
          ],
          [
           "Chris Paul",
           "2023-24"
          ],
          [
           "Danté Exum",
           "2024-25"
          ],
          [
           "Dewayne Dedmon",
           "2018-19"
          ],
          [
           "Justin Minaya",
           "2023-24"
          ],
          [
           "Arron Afflalo",
           "2017-18"
          ],
          [
           "Deng Adel",
           "2018-19"
          ],
          [
           "John Wall",
           "2016-17"
          ],
          [
           "Obi Toppin",
           "2024-25"
          ],
          [
           "Daniel Theis",
           "2023-24"
          ],
          [
           "Julius Randle",
           "2023-24"
          ],
          [
           "Romeo Langford",
           "2019-20"
          ],
          [
           "Malik Monk",
           "2024-25"
          ],
          [
           "Al-Farouq Aminu",
           "2016-17"
          ],
          [
           "Kessler Edwards",
           "2022-23"
          ],
          [
           "Dario Šarić",
           "2022-23"
          ],
          [
           "Jalen Smith",
           "2023-24"
          ],
          [
           "Ben Simmons",
           "2022-23"
          ],
          [
           "Cameron Oliver",
           "2020-21"
          ],
          [
           "Tayshaun Prince",
           "2015-16"
          ],
          [
           "Mo Bamba",
           "2023-24"
          ],
          [
           "Chris Paul",
           "2019-20"
          ],
          [
           "Keon Johnson",
           "2022-23"
          ],
          [
           "Victor Oladipo",
           "2017-18"
          ],
          [
           "Shai Gilgeous-Alexander",
           "2020-21"
          ],
          [
           "Larry Nance Jr.",
           "2021-22"
          ],
          [
           "James Harden",
           "2022-23"
          ],
          [
           "Christian Wood",
           "2018-19"
          ],
          [
           "Larry Nance Jr.",
           "2015-16"
          ],
          [
           "DeMarre Carroll",
           "2018-19"
          ],
          [
           "Christian Braun",
           "2022-23"
          ],
          [
           "Isaiah Todd",
           "2022-23"
          ],
          [
           "Micah Potter",
           "2024-25"
          ],
          [
           "OG Anunoby",
           "2023-24"
          ],
          [
           "Matthew Dellavedova",
           "2019-20"
          ],
          [
           "Isaiah Roby",
           "2022-23"
          ],
          [
           "Desmond Bane",
           "2022-23"
          ],
          [
           "Justise Winslow",
           "2021-22"
          ],
          [
           "Andre Drummond",
           "2019-20"
          ],
          [
           "Aaron Wiggins",
           "2024-25"
          ],
          [
           "Zach Collins",
           "2024-25"
          ],
          [
           "Zach LaVine",
           "2015-16"
          ],
          [
           "Al Horford",
           "2021-22"
          ],
          [
           "LaMelo Ball",
           "2021-22"
          ],
          [
           "Sterling Brown",
           "2021-22"
          ],
          [
           "Cody Martin",
           "2023-24"
          ],
          [
           "Domantas Sabonis",
           "2023-24"
          ],
          [
           "Bradley Beal",
           "2019-20"
          ],
          [
           "Jordan McLaughlin",
           "2023-24"
          ],
          [
           "Mario Hezonja",
           "2015-16"
          ],
          [
           "LaMelo Ball",
           "2020-21"
          ],
          [
           "Juancho Hernangomez",
           "2017-18"
          ],
          [
           "Serge Ibaka",
           "2017-18"
          ],
          [
           "Terrence Ross",
           "2020-21"
          ],
          [
           "Scoot Henderson",
           "2023-24"
          ],
          [
           "Kelly Olynyk",
           "2019-20"
          ],
          [
           "David Nwaba",
           "2016-17"
          ],
          [
           "Channing Frye",
           "2015-16"
          ],
          [
           "Kyrie Irving",
           "2023-24"
          ],
          [
           "Troy Williams",
           "2016-17"
          ],
          [
           "Aleem Ford",
           "2021-22"
          ],
          [
           "Josh Hart",
           "2022-23"
          ],
          [
           "Milos Teodosic",
           "2018-19"
          ],
          [
           "Mirza Teletovic",
           "2016-17"
          ],
          [
           "Rui Hachimura",
           "2024-25"
          ],
          [
           "P.J. Tucker",
           "2017-18"
          ],
          [
           "Kent Bazemore",
           "2020-21"
          ],
          [
           "Myles Turner",
           "2020-21"
          ],
          [
           "Landry Shamet",
           "2018-19"
          ],
          [
           "Jared Sullinger",
           "2016-17"
          ],
          [
           "Domantas Sabonis",
           "2016-17"
          ],
          [
           "Nerlens Noel",
           "2016-17"
          ],
          [
           "DeMar DeRozan",
           "2021-22"
          ],
          [
           "LaMarcus Aldridge",
           "2020-21"
          ],
          [
           "Darren Collison",
           "2015-16"
          ],
          [
           "Brook Lopez",
           "2019-20"
          ],
          [
           "Mike Conley",
           "2018-19"
          ],
          [
           "Taj Gibson",
           "2015-16"
          ],
          [
           "Khris Middleton",
           "2017-18"
          ],
          [
           "Paul Zipser",
           "2016-17"
          ],
          [
           "Patty Mills",
           "2023-24"
          ],
          [
           "Mo Bamba",
           "2021-22"
          ],
          [
           "Ersan Ilyasova",
           "2015-16"
          ],
          [
           "Richaun Holmes",
           "2023-24"
          ],
          [
           "Kira Lewis Jr.",
           "2020-21"
          ],
          [
           "Tobias Harris",
           "2020-21"
          ],
          [
           "Danny Green",
           "2019-20"
          ],
          [
           "Anthony Gill",
           "2021-22"
          ],
          [
           "Nemanja Bjelica",
           "2018-19"
          ],
          [
           "Markieff Morris",
           "2022-23"
          ],
          [
           "Trevor Ariza",
           "2019-20"
          ],
          [
           "Kyle Kuzma",
           "2018-19"
          ],
          [
           "Zach LaVine",
           "2024-25"
          ],
          [
           "Mitchell Robinson",
           "2024-25"
          ],
          [
           "Kosta Koufos",
           "2016-17"
          ],
          [
           "Kendrick Nunn",
           "2022-23"
          ],
          [
           "Jamal Crawford",
           "2015-16"
          ],
          [
           "Deron Williams",
           "2016-17"
          ],
          [
           "Sterling Brown",
           "2020-21"
          ],
          [
           "Max Christie",
           "2022-23"
          ],
          [
           "Kevin Huerter",
           "2018-19"
          ],
          [
           "Jusuf Nurkić",
           "2024-25"
          ],
          [
           "Marquese Chriss",
           "2017-18"
          ],
          [
           "Bismack Biyombo",
           "2015-16"
          ],
          [
           "Ish Smith",
           "2021-22"
          ],
          [
           "Jamal Cain",
           "2023-24"
          ],
          [
           "Deni Avdija",
           "2021-22"
          ],
          [
           "Alexis Ajinca",
           "2015-16"
          ],
          [
           "Sean Kilpatrick",
           "2017-18"
          ],
          [
           "Quinten Post",
           "2024-25"
          ],
          [
           "DaQuan Jeffries",
           "2024-25"
          ],
          [
           "Andre Miller",
           "2015-16"
          ],
          [
           "Bobby Portis",
           "2023-24"
          ],
          [
           "Paul Millsap",
           "2020-21"
          ],
          [
           "Dillon Brooks",
           "2023-24"
          ],
          [
           "Pelle Larsson",
           "2024-25"
          ],
          [
           "John Collins",
           "2017-18"
          ],
          [
           "Briante Weber",
           "2017-18"
          ],
          [
           "Joel Embiid",
           "2018-19"
          ],
          [
           "Corey Brewer",
           "2016-17"
          ],
          [
           "Sam Dekker",
           "2018-19"
          ],
          [
           "Paul Millsap",
           "2018-19"
          ],
          [
           "Larry Nance Jr.",
           "2016-17"
          ],
          [
           "Luke Kennard",
           "2022-23"
          ],
          [
           "Ryan Hollins",
           "2015-16"
          ],
          [
           "Dante Cunningham",
           "2016-17"
          ],
          [
           "Admiral Schofield",
           "2019-20"
          ],
          [
           "Ian Clark",
           "2018-19"
          ],
          [
           "Paul George",
           "2018-19"
          ],
          [
           "Dejounte Murray",
           "2021-22"
          ],
          [
           "Brandon Bass",
           "2016-17"
          ],
          [
           "Luke Kornet",
           "2018-19"
          ],
          [
           "Elie Okobo",
           "2019-20"
          ],
          [
           "Keldon Johnson",
           "2020-21"
          ],
          [
           "Miles Plumlee",
           "2017-18"
          ],
          [
           "David Nwaba",
           "2021-22"
          ],
          [
           "Olivier Sarr",
           "2022-23"
          ],
          [
           "Norris Cole",
           "2015-16"
          ],
          [
           "George Hill",
           "2022-23"
          ],
          [
           "Dwight Powell",
           "2020-21"
          ],
          [
           "Omer Asik",
           "2015-16"
          ],
          [
           "Jose Alvarado",
           "2021-22"
          ],
          [
           "Caleb Martin",
           "2021-22"
          ],
          [
           "Drew Eubanks",
           "2021-22"
          ],
          [
           "Dorian Finney-Smith",
           "2018-19"
          ],
          [
           "Daniel Gafford",
           "2019-20"
          ],
          [
           "Deni Avdija",
           "2020-21"
          ],
          [
           "P.J. Washington",
           "2023-24"
          ],
          [
           "Khem Birch",
           "2021-22"
          ],
          [
           "JT Thor",
           "2021-22"
          ],
          [
           "Jakob Poeltl",
           "2017-18"
          ],
          [
           "Jae Crowder",
           "2017-18"
          ],
          [
           "Wayne Ellington",
           "2018-19"
          ],
          [
           "Tyrese Haliburton",
           "2023-24"
          ],
          [
           "Charles Bassey",
           "2022-23"
          ],
          [
           "Amir Coffey",
           "2024-25"
          ],
          [
           "Courtney Lee",
           "2016-17"
          ],
          [
           "Juan Toscano-Anderson",
           "2021-22"
          ],
          [
           "Fred VanVleet",
           "2020-21"
          ],
          [
           "Bojan Bogdanović",
           "2018-19"
          ],
          [
           "JaMychal Green",
           "2022-23"
          ],
          [
           "Harrison Barnes",
           "2020-21"
          ],
          [
           "Robert Covington",
           "2021-22"
          ],
          [
           "Devin Booker",
           "2016-17"
          ],
          [
           "Zach Collins",
           "2023-24"
          ],
          [
           "Khris Middleton",
           "2015-16"
          ],
          [
           "Derrick White",
           "2023-24"
          ],
          [
           "Aaron Holiday",
           "2023-24"
          ],
          [
           "Steven Adams",
           "2019-20"
          ],
          [
           "Aleksej Pokusevski",
           "2021-22"
          ],
          [
           "Anthony Tolliver",
           "2017-18"
          ],
          [
           "Brodric Thomas",
           "2020-21"
          ],
          [
           "Abdel Nader",
           "2017-18"
          ],
          [
           "Tyrese Martin",
           "2024-25"
          ],
          [
           "Anthony Davis",
           "2019-20"
          ],
          [
           "James Johnson",
           "2016-17"
          ],
          [
           "Simone Fontecchio",
           "2024-25"
          ],
          [
           "Norman Powell",
           "2018-19"
          ],
          [
           "Brandon Ingram",
           "2016-17"
          ],
          [
           "Paolo Banchero",
           "2022-23"
          ],
          [
           "Michael Kidd-Gilchrist",
           "2017-18"
          ],
          [
           "Nick Richards",
           "2024-25"
          ],
          [
           "Davion Mitchell",
           "2022-23"
          ],
          [
           "Brook Lopez",
           "2015-16"
          ],
          [
           "Jaden Hardy",
           "2023-24"
          ],
          [
           "Goran Dragic",
           "2018-19"
          ],
          [
           "Bojan Bogdanović",
           "2022-23"
          ],
          [
           "Chris Boucher",
           "2020-21"
          ],
          [
           "Dragan Bender",
           "2018-19"
          ],
          [
           "Bobby Portis",
           "2018-19"
          ],
          [
           "LeBron James",
           "2015-16"
          ],
          [
           "Briante Weber",
           "2016-17"
          ],
          [
           "Alec Burks",
           "2021-22"
          ],
          [
           "Anthony Brown",
           "2016-17"
          ],
          [
           "Isaiah Stewart",
           "2021-22"
          ],
          [
           "John Wall",
           "2017-18"
          ],
          [
           "Brandon Ingram",
           "2017-18"
          ],
          [
           "Justin Holiday",
           "2017-18"
          ],
          [
           "Wenyen Gabriel",
           "2021-22"
          ],
          [
           "Tobias Harris",
           "2021-22"
          ],
          [
           "T.J. Leaf",
           "2019-20"
          ],
          [
           "Donovan Mitchell",
           "2024-25"
          ],
          [
           "Stephen Curry",
           "2024-25"
          ],
          [
           "Jalen Duren",
           "2024-25"
          ],
          [
           "Nickeil Alexander-Walker",
           "2023-24"
          ],
          [
           "Kyrie Irving",
           "2024-25"
          ],
          [
           "Brian Roberts",
           "2015-16"
          ],
          [
           "Furkan Korkmaz",
           "2021-22"
          ],
          [
           "Elfrid Payton",
           "2024-25"
          ],
          [
           "Andre Drummond",
           "2017-18"
          ],
          [
           "Kyle Singler",
           "2015-16"
          ],
          [
           "Jaylen Martin",
           "2024-25"
          ],
          [
           "John Konchar",
           "2019-20"
          ],
          [
           "Torrey Craig",
           "2021-22"
          ],
          [
           "Dyson Daniels",
           "2023-24"
          ],
          [
           "Beno Udrih",
           "2015-16"
          ],
          [
           "Iman Shumpert",
           "2015-16"
          ],
          [
           "Aaron Gordon",
           "2021-22"
          ],
          [
           "Chimezie Metu",
           "2021-22"
          ],
          [
           "Cody Martin",
           "2021-22"
          ],
          [
           "Norman Powell",
           "2016-17"
          ],
          [
           "Enes Freedom",
           "2019-20"
          ],
          [
           "Channing Frye",
           "2015-16"
          ],
          [
           "Facundo Campazzo",
           "2020-21"
          ],
          [
           "Stephen Curry",
           "2017-18"
          ],
          [
           "Precious Achiuwa",
           "2021-22"
          ],
          [
           "Jarell Martin",
           "2017-18"
          ],
          [
           "Nassir Little",
           "2020-21"
          ],
          [
           "LaMelo Ball",
           "2023-24"
          ],
          [
           "Kendrick Nunn",
           "2022-23"
          ],
          [
           "Ish Smith",
           "2022-23"
          ],
          [
           "Skal Labissiere",
           "2019-20"
          ],
          [
           "Otto Porter Jr.",
           "2015-16"
          ],
          [
           "Derrick Jones Jr.",
           "2016-17"
          ],
          [
           "Gorgui Dieng",
           "2015-16"
          ],
          [
           "Andrew Nembhard",
           "2024-25"
          ],
          [
           "Lavoy Allen",
           "2016-17"
          ],
          [
           "Isaiah Hartenstein",
           "2019-20"
          ],
          [
           "John Collins",
           "2022-23"
          ],
          [
           "Julius Randle",
           "2015-16"
          ],
          [
           "Tari Eason",
           "2023-24"
          ],
          [
           "George Hill",
           "2015-16"
          ],
          [
           "Mamadi Diakite",
           "2021-22"
          ],
          [
           "Nikola Vučević",
           "2023-24"
          ],
          [
           "Rudy Gay",
           "2016-17"
          ],
          [
           "Kelly Olynyk",
           "2018-19"
          ],
          [
           "Jaylen Brown",
           "2022-23"
          ],
          [
           "Otto Porter Jr.",
           "2021-22"
          ],
          [
           "Jordan Goodwin",
           "2022-23"
          ],
          [
           "Isaiah Briscoe",
           "2018-19"
          ],
          [
           "Donte DiVincenzo",
           "2023-24"
          ],
          [
           "Willie Cauley-Stein",
           "2019-20"
          ],
          [
           "Mikal Bridges",
           "2022-23"
          ],
          [
           "Ivan Rabb",
           "2017-18"
          ],
          [
           "Taj Gibson",
           "2020-21"
          ],
          [
           "Jordan Clarkson",
           "2024-25"
          ],
          [
           "Quenton Jackson",
           "2024-25"
          ],
          [
           "Gordon Hayward",
           "2018-19"
          ],
          [
           "Simone Fontecchio",
           "2022-23"
          ],
          [
           "Deandre Ayton",
           "2022-23"
          ],
          [
           "Precious Achiuwa",
           "2022-23"
          ],
          [
           "Delon Wright",
           "2021-22"
          ],
          [
           "Jeff Green",
           "2018-19"
          ],
          [
           "Josh Richardson",
           "2020-21"
          ],
          [
           "Alec Burks",
           "2017-18"
          ],
          [
           "Paul George",
           "2016-17"
          ],
          [
           "Cameron Payne",
           "2023-24"
          ],
          [
           "Jordan Nwora",
           "2020-21"
          ],
          [
           "Dennis Smith Jr.",
           "2021-22"
          ],
          [
           "Joe Harris",
           "2016-17"
          ],
          [
           "Hassan Whiteside",
           "2018-19"
          ],
          [
           "Frank Ntilikina",
           "2017-18"
          ],
          [
           "Zach LaVine",
           "2019-20"
          ],
          [
           "Aron Baynes",
           "2017-18"
          ],
          [
           "Tremont Waters",
           "2019-20"
          ],
          [
           "Marquese Chriss",
           "2016-17"
          ],
          [
           "Andrew Harrison",
           "2017-18"
          ],
          [
           "Kyle Filipowski",
           "2024-25"
          ],
          [
           "Kawhi Leonard",
           "2015-16"
          ],
          [
           "Jevon Carter",
           "2021-22"
          ],
          [
           "Tyson Chandler",
           "2016-17"
          ],
          [
           "Jacob Evans",
           "2019-20"
          ],
          [
           "Giannis Antetokounmpo",
           "2016-17"
          ],
          [
           "James Harden",
           "2020-21"
          ],
          [
           "Goran Dragic",
           "2021-22"
          ],
          [
           "Darius Garland",
           "2023-24"
          ],
          [
           "Dorian Finney-Smith",
           "2024-25"
          ],
          [
           "Wendell Carter Jr.",
           "2024-25"
          ],
          [
           "Tyus Jones",
           "2022-23"
          ],
          [
           "Solomon Hill",
           "2018-19"
          ],
          [
           "Isaiah Hartenstein",
           "2023-24"
          ],
          [
           "Josh Jackson",
           "2019-20"
          ],
          [
           "Gary Payton II",
           "2019-20"
          ],
          [
           "Kevin Love",
           "2018-19"
          ],
          [
           "Pascal Siakam",
           "2017-18"
          ],
          [
           "Carmelo Anthony",
           "2020-21"
          ],
          [
           "Malachi Flynn",
           "2023-24"
          ],
          [
           "Raymond Felton",
           "2016-17"
          ],
          [
           "Markieff Morris",
           "2020-21"
          ],
          [
           "Seth Curry",
           "2024-25"
          ],
          [
           "Devin Cannady",
           "2020-21"
          ],
          [
           "Joakim Noah",
           "2015-16"
          ],
          [
           "Donovan Mitchell",
           "2020-21"
          ],
          [
           "Rodney Hood",
           "2017-18"
          ],
          [
           "Solomon Hill",
           "2017-18"
          ],
          [
           "Kristaps Porziņģis",
           "2023-24"
          ],
          [
           "Elijah Harkless",
           "2024-25"
          ],
          [
           "Chandler Parsons",
           "2017-18"
          ],
          [
           "Tre Jones",
           "2023-24"
          ],
          [
           "D'Angelo Russell",
           "2015-16"
          ],
          [
           "Tyrese Maxey",
           "2020-21"
          ],
          [
           "Al Jefferson",
           "2015-16"
          ],
          [
           "Dario Šarić",
           "2016-17"
          ],
          [
           "Chasson Randle",
           "2018-19"
          ],
          [
           "Ricky Rubio",
           "2022-23"
          ],
          [
           "Dion Waiters",
           "2017-18"
          ],
          [
           "Isaiah Thomas",
           "2020-21"
          ],
          [
           "Cam Thomas",
           "2021-22"
          ],
          [
           "Klay Thompson",
           "2015-16"
          ],
          [
           "Jae Crowder",
           "2021-22"
          ],
          [
           "John Wall",
           "2020-21"
          ],
          [
           "Derrick Favors",
           "2018-19"
          ],
          [
           "Jeremiah Martin",
           "2019-20"
          ],
          [
           "Louis King",
           "2020-21"
          ],
          [
           "Montrezl Harrell",
           "2017-18"
          ],
          [
           "Kostas Papanikolaou",
           "2015-16"
          ],
          [
           "Deni Avdija",
           "2022-23"
          ],
          [
           "Bojan Bogdanović",
           "2016-17"
          ],
          [
           "Svi Mykhailiuk",
           "2023-24"
          ],
          [
           "Marvin Williams",
           "2018-19"
          ],
          [
           "Tristan Vukcevic",
           "2024-25"
          ],
          [
           "Tyler Cook",
           "2020-21"
          ],
          [
           "Lauri Markkanen",
           "2019-20"
          ],
          [
           "Clint Capela",
           "2024-25"
          ],
          [
           "Eric Gordon",
           "2015-16"
          ],
          [
           "KZ Okpala",
           "2020-21"
          ],
          [
           "Mason Plumlee",
           "2016-17"
          ],
          [
           "Moses Moody",
           "2024-25"
          ],
          [
           "Stanley Umude",
           "2023-24"
          ],
          [
           "Carl Landry",
           "2015-16"
          ],
          [
           "Patty Mills",
           "2020-21"
          ],
          [
           "RJ Barrett",
           "2020-21"
          ],
          [
           "Wes Iwundu",
           "2021-22"
          ],
          [
           "Dario Šarić",
           "2019-20"
          ],
          [
           "Jaylin Williams",
           "2024-25"
          ],
          [
           "Jordan Goodwin",
           "2024-25"
          ],
          [
           "Dāvis Bertāns",
           "2017-18"
          ],
          [
           "Marcelo Huertas",
           "2016-17"
          ],
          [
           "Tyrone Wallace",
           "2021-22"
          ],
          [
           "Hamidou Diallo",
           "2018-19"
          ],
          [
           "D.J. Augustin",
           "2015-16"
          ],
          [
           "Dwyane Wade",
           "2017-18"
          ],
          [
           "Reggie Bullock Jr.",
           "2019-20"
          ],
          [
           "Reed Sheppard",
           "2024-25"
          ],
          [
           "Jaden Ivey",
           "2022-23"
          ],
          [
           "Luol Deng",
           "2018-19"
          ],
          [
           "Tristan Thompson",
           "2021-22"
          ],
          [
           "Kevin Durant",
           "2024-25"
          ],
          [
           "Serge Ibaka",
           "2015-16"
          ],
          [
           "Isaiah Wong",
           "2024-25"
          ],
          [
           "Anthony Davis",
           "2024-25"
          ],
          [
           "Richard Jefferson",
           "2015-16"
          ],
          [
           "Carsen Edwards",
           "2021-22"
          ],
          [
           "Trae Young",
           "2024-25"
          ],
          [
           "Moritz Wagner",
           "2018-19"
          ],
          [
           "Torrey Craig",
           "2023-24"
          ],
          [
           "Kyrie Irving",
           "2018-19"
          ],
          [
           "Channing Frye",
           "2017-18"
          ],
          [
           "Kendrick Nunn",
           "2020-21"
          ],
          [
           "Jevon Carter",
           "2021-22"
          ],
          [
           "Nemanja Bjelica",
           "2016-17"
          ],
          [
           "Miye Oni",
           "2019-20"
          ],
          [
           "Marc Gasol",
           "2015-16"
          ],
          [
           "Lance Stephenson",
           "2018-19"
          ],
          [
           "Raymond Felton",
           "2017-18"
          ],
          [
           "Markieff Morris",
           "2019-20"
          ],
          [
           "Omri Casspi",
           "2016-17"
          ],
          [
           "GG Jackson",
           "2024-25"
          ],
          [
           "Brook Lopez",
           "2021-22"
          ],
          [
           "Jordan Poole",
           "2023-24"
          ],
          [
           "Payton Pritchard",
           "2024-25"
          ],
          [
           "Marco Belinelli",
           "2017-18"
          ],
          [
           "Evan Fournier",
           "2022-23"
          ],
          [
           "Corey Kispert",
           "2022-23"
          ],
          [
           "Jalen Johnson",
           "2023-24"
          ],
          [
           "Montrezl Harrell",
           "2016-17"
          ],
          [
           "Dwyane Wade",
           "2016-17"
          ],
          [
           "Damian Lillard",
           "2016-17"
          ],
          [
           "Thabo Sefolosha",
           "2017-18"
          ],
          [
           "Bruce Brown",
           "2023-24"
          ],
          [
           "Killian Hayes",
           "2023-24"
          ],
          [
           "Jordan McRae",
           "2016-17"
          ],
          [
           "GG Jackson",
           "2023-24"
          ],
          [
           "Damian Lillard",
           "2018-19"
          ],
          [
           "Ousmane Dieng",
           "2023-24"
          ],
          [
           "Jose Alvarado",
           "2024-25"
          ],
          [
           "Jae Crowder",
           "2019-20"
          ],
          [
           "Danilo Gallinari",
           "2018-19"
          ],
          [
           "Nic Claxton",
           "2023-24"
          ],
          [
           "Marcus Smart",
           "2023-24"
          ],
          [
           "Jalen Williams",
           "2024-25"
          ],
          [
           "Tyrese Haliburton",
           "2022-23"
          ],
          [
           "Joel Embiid",
           "2020-21"
          ],
          [
           "Troy Daniels",
           "2018-19"
          ],
          [
           "Rudy Gobert",
           "2018-19"
          ],
          [
           "Kelly Olynyk",
           "2015-16"
          ],
          [
           "Maurice Ndour",
           "2016-17"
          ],
          [
           "Anthony Morrow",
           "2016-17"
          ],
          [
           "Maurice Harkless",
           "2015-16"
          ],
          [
           "Roy Hibbert",
           "2016-17"
          ],
          [
           "Cody Martin",
           "2024-25"
          ],
          [
           "Talen Horton-Tucker",
           "2019-20"
          ],
          [
           "T.J. McConnell",
           "2022-23"
          ],
          [
           "Juan Toscano-Anderson",
           "2020-21"
          ],
          [
           "JJ Redick",
           "2015-16"
          ],
          [
           "Vince Carter",
           "2019-20"
          ],
          [
           "Talen Horton-Tucker",
           "2023-24"
          ],
          [
           "Matisse Thybulle",
           "2022-23"
          ],
          [
           "Nikola Mirotic",
           "2017-18"
          ],
          [
           "Buddy Hield",
           "2023-24"
          ],
          [
           "Terry Rozier",
           "2024-25"
          ],
          [
           "Khris Middleton",
           "2019-20"
          ],
          [
           "Donte DiVincenzo",
           "2020-21"
          ],
          [
           "Giannis Antetokounmpo",
           "2022-23"
          ],
          [
           "Day'Ron Sharpe",
           "2024-25"
          ],
          [
           "Alex Len",
           "2018-19"
          ],
          [
           "Skal Labissiere",
           "2016-17"
          ],
          [
           "Bryn Forbes",
           "2018-19"
          ],
          [
           "Henry Sims",
           "2015-16"
          ],
          [
           "Jayson Tatum",
           "2019-20"
          ],
          [
           "Nikola Vučević",
           "2019-20"
          ],
          [
           "Wendell Carter Jr.",
           "2022-23"
          ],
          [
           "Reggie Bullock Jr.",
           "2017-18"
          ],
          [
           "R.J. Hampton",
           "2022-23"
          ],
          [
           "Jeremy Lamb",
           "2020-21"
          ],
          [
           "Norvel Pelle",
           "2019-20"
          ],
          [
           "Bones Hyland",
           "2023-24"
          ],
          [
           "Andrew Wiggins",
           "2016-17"
          ],
          [
           "Saddiq Bey",
           "2022-23"
          ],
          [
           "Joe Harris",
           "2021-22"
          ],
          [
           "Frank Kaminsky",
           "2017-18"
          ],
          [
           "Anfernee Simons",
           "2019-20"
          ],
          [
           "De'Aaron Fox",
           "2019-20"
          ],
          [
           "Javonte Green",
           "2022-23"
          ],
          [
           "Wilson Chandler",
           "2019-20"
          ],
          [
           "JaKarr Sampson",
           "2015-16"
          ],
          [
           "Michael Carter-Williams",
           "2016-17"
          ],
          [
           "Evan Fournier",
           "2019-20"
          ],
          [
           "Cory Joseph",
           "2022-23"
          ],
          [
           "Amen Thompson",
           "2024-25"
          ],
          [
           "Jaylen Nowell",
           "2024-25"
          ],
          [
           "Alec Burks",
           "2018-19"
          ],
          [
           "Jordan Clarkson",
           "2017-18"
          ],
          [
           "T.J. Warren",
           "2018-19"
          ],
          [
           "Jalen Brunson",
           "2023-24"
          ],
          [
           "Jaren Jackson Jr.",
           "2018-19"
          ],
          [
           "Trent Forrest",
           "2023-24"
          ],
          [
           "Danté Exum",
           "2023-24"
          ],
          [
           "JJ Redick",
           "2020-21"
          ],
          [
           "Luke Babbitt",
           "2016-17"
          ],
          [
           "Ty Lawson",
           "2015-16"
          ],
          [
           "Isaiah Thomas",
           "2017-18"
          ],
          [
           "Devin Harris",
           "2015-16"
          ],
          [
           "Buddy Hield",
           "2020-21"
          ],
          [
           "Langston Galloway",
           "2016-17"
          ],
          [
           "Josh Jackson",
           "2021-22"
          ],
          [
           "Brook Lopez",
           "2023-24"
          ],
          [
           "James Johnson",
           "2020-21"
          ],
          [
           "Jimmy Butler III",
           "2024-25"
          ],
          [
           "Aaron Holiday",
           "2020-21"
          ],
          [
           "Tristan Thompson",
           "2021-22"
          ],
          [
           "Serge Ibaka",
           "2021-22"
          ],
          [
           "Domantas Sabonis",
           "2024-25"
          ],
          [
           "Cameron Johnson",
           "2022-23"
          ],
          [
           "Gradey Dick",
           "2024-25"
          ],
          [
           "David Nwaba",
           "2020-21"
          ],
          [
           "Kentavious Caldwell-Pope",
           "2021-22"
          ],
          [
           "Trey Burke",
           "2020-21"
          ],
          [
           "Trendon Watford",
           "2023-24"
          ],
          [
           "Thomas Bryant",
           "2024-25"
          ],
          [
           "Rodions Kurucs",
           "2019-20"
          ],
          [
           "Delon Wright",
           "2018-19"
          ],
          [
           "Brandon Clarke",
           "2024-25"
          ],
          [
           "Tim Hardaway Jr.",
           "2024-25"
          ],
          [
           "Nerlens Noel",
           "2018-19"
          ],
          [
           "Anthony Tolliver",
           "2019-20"
          ],
          [
           "Joel Embiid",
           "2022-23"
          ],
          [
           "Derrick Rose",
           "2020-21"
          ],
          [
           "Ricky Rubio",
           "2021-22"
          ],
          [
           "Chet Holmgren",
           "2023-24"
          ],
          [
           "Kenrich Williams",
           "2019-20"
          ],
          [
           "Shaquille Harrison",
           "2020-21"
          ],
          [
           "Dennis Schröder",
           "2022-23"
          ],
          [
           "Jalen Wilson",
           "2023-24"
          ],
          [
           "Franz Wagner",
           "2022-23"
          ],
          [
           "Danté Exum",
           "2020-21"
          ],
          [
           "Andre Roberson",
           "2015-16"
          ],
          [
           "De'Andre Hunter",
           "2023-24"
          ],
          [
           "Omer Yurtseven",
           "2021-22"
          ],
          [
           "Alex Len",
           "2016-17"
          ],
          [
           "Carsen Edwards",
           "2019-20"
          ],
          [
           "Tre Jones",
           "2024-25"
          ],
          [
           "DeAndre Jordan",
           "2020-21"
          ],
          [
           "Alex Poythress",
           "2016-17"
          ],
          [
           "Tony Parker",
           "2015-16"
          ],
          [
           "Brandon Ingram",
           "2021-22"
          ],
          [
           "John Konchar",
           "2021-22"
          ],
          [
           "Rudy Gobert",
           "2024-25"
          ],
          [
           "Raul Neto",
           "2022-23"
          ],
          [
           "Matt Barnes",
           "2016-17"
          ],
          [
           "Denzel Valentine",
           "2017-18"
          ],
          [
           "Wayne Ellington",
           "2018-19"
          ],
          [
           "Pat Connaughton",
           "2021-22"
          ],
          [
           "P.J. Washington",
           "2021-22"
          ],
          [
           "Tre Mann",
           "2023-24"
          ],
          [
           "Jakob Poeltl",
           "2020-21"
          ],
          [
           "Mouhamed Gueye",
           "2024-25"
          ],
          [
           "Mikal Bridges",
           "2024-25"
          ],
          [
           "Wesley Johnson",
           "2018-19"
          ],
          [
           "DeMarcus Cousins",
           "2016-17"
          ],
          [
           "Paul George",
           "2015-16"
          ],
          [
           "Devin Vassell",
           "2020-21"
          ],
          [
           "Maurice Harkless",
           "2019-20"
          ],
          [
           "Christian Wood",
           "2020-21"
          ],
          [
           "Jarrett Jack",
           "2017-18"
          ],
          [
           "P.J. Washington",
           "2022-23"
          ],
          [
           "Jae Crowder",
           "2023-24"
          ],
          [
           "Brandon Boston",
           "2022-23"
          ],
          [
           "Zach Collins",
           "2021-22"
          ],
          [
           "JJ Redick",
           "2019-20"
          ],
          [
           "Jake LaRavia",
           "2022-23"
          ],
          [
           "Walker Kessler",
           "2024-25"
          ],
          [
           "Mark Williams",
           "2023-24"
          ],
          [
           "Mike Scott",
           "2018-19"
          ],
          [
           "Bojan Bogdanović",
           "2023-24"
          ],
          [
           "Dominick Barlow",
           "2024-25"
          ],
          [
           "Mike Muscala",
           "2020-21"
          ],
          [
           "Jonathan Isaac",
           "2017-18"
          ],
          [
           "Mo Bamba",
           "2020-21"
          ],
          [
           "Duane Washington Jr.",
           "2022-23"
          ],
          [
           "Clint Capela",
           "2021-22"
          ],
          [
           "Jose Calderon",
           "2017-18"
          ],
          [
           "Monté Morris",
           "2024-25"
          ],
          [
           "Jakob Poeltl",
           "2019-20"
          ],
          [
           "Bobby Portis",
           "2017-18"
          ],
          [
           "Paul George",
           "2024-25"
          ],
          [
           "Hassan Whiteside",
           "2015-16"
          ],
          [
           "Derrick Jones Jr.",
           "2021-22"
          ],
          [
           "Tyler Zeller",
           "2017-18"
          ],
          [
           "Kyle Kuzma",
           "2021-22"
          ],
          [
           "Seth Curry",
           "2021-22"
          ],
          [
           "Collin Sexton",
           "2020-21"
          ],
          [
           "Keegan Murray",
           "2022-23"
          ],
          [
           "Tomas Satoransky",
           "2017-18"
          ],
          [
           "Thanasis Antetokounmpo",
           "2020-21"
          ],
          [
           "Evan Turner",
           "2015-16"
          ],
          [
           "Boban Marjanović",
           "2019-20"
          ],
          [
           "Sean Kilpatrick",
           "2016-17"
          ],
          [
           "Luke Kennard",
           "2020-21"
          ],
          [
           "Darius Miller",
           "2020-21"
          ],
          [
           "Elfrid Payton",
           "2019-20"
          ],
          [
           "Gary Clark",
           "2019-20"
          ],
          [
           "Ben Simmons",
           "2017-18"
          ],
          [
           "Charlie Villanueva",
           "2015-16"
          ],
          [
           "Jonas Jerebko",
           "2016-17"
          ],
          [
           "Jordan Bone",
           "2020-21"
          ],
          [
           "Kyle Lowry",
           "2015-16"
          ],
          [
           "Tristan Thompson",
           "2017-18"
          ],
          [
           "Robin Lopez",
           "2015-16"
          ],
          [
           "Nigel Hayes",
           "2017-18"
          ],
          [
           "Peyton Watson",
           "2023-24"
          ],
          [
           "Sean Kilpatrick",
           "2017-18"
          ],
          [
           "Sandro Mamukelashvili",
           "2022-23"
          ],
          [
           "Vasilije Micić",
           "2023-24"
          ],
          [
           "Kevin Love",
           "2021-22"
          ],
          [
           "Anthony Gill",
           "2022-23"
          ],
          [
           "Marvin Williams",
           "2016-17"
          ],
          [
           "Kyle Kuzma",
           "2019-20"
          ],
          [
           "Dwight Buycks",
           "2017-18"
          ],
          [
           "D.J. Augustin",
           "2021-22"
          ],
          [
           "Jordan Crawford",
           "2016-17"
          ],
          [
           "Jimmy Butler III",
           "2016-17"
          ],
          [
           "Evan Mobley",
           "2023-24"
          ],
          [
           "Paolo Banchero",
           "2023-24"
          ],
          [
           "Eric Gordon",
           "2020-21"
          ],
          [
           "Isaac Bonga",
           "2019-20"
          ],
          [
           "Elfrid Payton",
           "2016-17"
          ],
          [
           "Raul Neto",
           "2021-22"
          ],
          [
           "Shabazz Napier",
           "2019-20"
          ],
          [
           "Troy Brown Jr.",
           "2018-19"
          ],
          [
           "Nicolas Batum",
           "2015-16"
          ],
          [
           "Moses Brown",
           "2021-22"
          ],
          [
           "Jarred Vanderbilt",
           "2021-22"
          ],
          [
           "Khem Birch",
           "2020-21"
          ],
          [
           "Malachi Richardson",
           "2017-18"
          ],
          [
           "LaMelo Ball",
           "2022-23"
          ],
          [
           "JR Smith",
           "2016-17"
          ],
          [
           "Jalen Jones",
           "2018-19"
          ],
          [
           "Kenneth Lofton Jr.",
           "2023-24"
          ],
          [
           "Jeremy Sochan",
           "2022-23"
          ],
          [
           "Zach Collins",
           "2019-20"
          ],
          [
           "Nikola Vučević",
           "2015-16"
          ],
          [
           "Donte DiVincenzo",
           "2024-25"
          ],
          [
           "Delon Wright",
           "2023-24"
          ],
          [
           "Joe Ingles",
           "2023-24"
          ],
          [
           "Matt Ryan",
           "2022-23"
          ],
          [
           "Payton Pritchard",
           "2023-24"
          ],
          [
           "Joe Harris",
           "2017-18"
          ],
          [
           "Khris Middleton",
           "2022-23"
          ],
          [
           "Buddy Hield",
           "2022-23"
          ],
          [
           "Sam Dekker",
           "2017-18"
          ],
          [
           "Andre Iguodala",
           "2021-22"
          ],
          [
           "Grayson Allen",
           "2018-19"
          ],
          [
           "Dennis Schröder",
           "2023-24"
          ],
          [
           "Johnny O'Bryant III",
           "2017-18"
          ],
          [
           "Dennis Schröder",
           "2024-25"
          ],
          [
           "Luka Dončić",
           "2023-24"
          ],
          [
           "Miles Bridges",
           "2019-20"
          ],
          [
           "Moritz Wagner",
           "2022-23"
          ],
          [
           "Solomon Hill",
           "2020-21"
          ],
          [
           "Gary Payton II",
           "2024-25"
          ],
          [
           "Paul Millsap",
           "2015-16"
          ],
          [
           "Donte DiVincenzo",
           "2021-22"
          ],
          [
           "Baylor Scheierman",
           "2024-25"
          ],
          [
           "Patty Mills",
           "2015-16"
          ],
          [
           "Deni Avdija",
           "2024-25"
          ],
          [
           "George Hill",
           "2018-19"
          ],
          [
           "Rodney McGruder",
           "2017-18"
          ],
          [
           "Brandon Ingram",
           "2020-21"
          ],
          [
           "Andrew Wiggins",
           "2024-25"
          ],
          [
           "Brandon Knight",
           "2019-20"
          ],
          [
           "Jock Landale",
           "2021-22"
          ],
          [
           "Patrick Beverley",
           "2020-21"
          ],
          [
           "Dalen Terry",
           "2023-24"
          ],
          [
           "Amir Coffey",
           "2021-22"
          ],
          [
           "Luka Garza",
           "2021-22"
          ],
          [
           "Blake Griffin",
           "2019-20"
          ],
          [
           "Chris Silva",
           "2019-20"
          ],
          [
           "Wesley Matthews",
           "2020-21"
          ],
          [
           "Patrick Beverley",
           "2023-24"
          ],
          [
           "CJ McCollum",
           "2022-23"
          ],
          [
           "Malcolm Delaney",
           "2016-17"
          ],
          [
           "Skylar Mays",
           "2022-23"
          ],
          [
           "Jeff Teague",
           "2017-18"
          ],
          [
           "Juan Toscano-Anderson",
           "2022-23"
          ],
          [
           "Naz Reid",
           "2021-22"
          ],
          [
           "Justin Jackson",
           "2017-18"
          ],
          [
           "Stephen Curry",
           "2015-16"
          ],
          [
           "Tim Frazier",
           "2021-22"
          ],
          [
           "Gary Harris",
           "2018-19"
          ],
          [
           "Moritz Wagner",
           "2020-21"
          ],
          [
           "Jonathon Simmons",
           "2018-19"
          ],
          [
           "Trayce Jackson-Davis",
           "2024-25"
          ],
          [
           "Rajon Rondo",
           "2015-16"
          ],
          [
           "Jaron Blossomgame",
           "2018-19"
          ],
          [
           "Bam Adebayo",
           "2017-18"
          ],
          [
           "Pascal Siakam",
           "2023-24"
          ],
          [
           "Chet Holmgren",
           "2024-25"
          ],
          [
           "Ersan Ilyasova",
           "2015-16"
          ],
          [
           "James Johnson",
           "2019-20"
          ],
          [
           "Mike Muscala",
           "2017-18"
          ],
          [
           "Jaylen Adams",
           "2018-19"
          ],
          [
           "Stanley Johnson",
           "2021-22"
          ],
          [
           "Spencer Dinwiddie",
           "2021-22"
          ],
          [
           "Darrell Arthur",
           "2015-16"
          ],
          [
           "Jabari Smith Jr.",
           "2024-25"
          ],
          [
           "JaMychal Green",
           "2021-22"
          ],
          [
           "Kyrie Irving",
           "2017-18"
          ],
          [
           "Paul George",
           "2022-23"
          ],
          [
           "Isaiah Taylor",
           "2017-18"
          ],
          [
           "Mikal Bridges",
           "2023-24"
          ],
          [
           "Xavier Rathan-Mayes",
           "2017-18"
          ],
          [
           "Tremont Waters",
           "2020-21"
          ],
          [
           "Troy Brown Jr.",
           "2020-21"
          ],
          [
           "Ryan Arcidiacono",
           "2022-23"
          ],
          [
           "Courtney Lee",
           "2018-19"
          ],
          [
           "Draymond Green",
           "2018-19"
          ],
          [
           "Khem Birch",
           "2019-20"
          ],
          [
           "Otto Porter Jr.",
           "2018-19"
          ],
          [
           "Mo Bamba",
           "2024-25"
          ],
          [
           "Dereck Lively II",
           "2024-25"
          ],
          [
           "Danuel House Jr.",
           "2023-24"
          ],
          [
           "LeBron James",
           "2017-18"
          ],
          [
           "Archie Goodwin",
           "2015-16"
          ],
          [
           "Jordan Clarkson",
           "2020-21"
          ],
          [
           "Scottie Barnes",
           "2024-25"
          ],
          [
           "Allen Crabbe",
           "2019-20"
          ],
          [
           "Brandon Rush",
           "2016-17"
          ],
          [
           "Drew Eubanks",
           "2022-23"
          ],
          [
           "Iman Shumpert",
           "2018-19"
          ],
          [
           "Jimmy Butler III",
           "2022-23"
          ],
          [
           "Ziaire Williams",
           "2024-25"
          ],
          [
           "J.J. Barea",
           "2016-17"
          ],
          [
           "Bogdan Bogdanović",
           "2018-19"
          ],
          [
           "Jonas Jerebko",
           "2015-16"
          ],
          [
           "Ed Davis",
           "2015-16"
          ],
          [
           "Jarell Martin",
           "2015-16"
          ],
          [
           "Mychal Mulder",
           "2019-20"
          ],
          [
           "Rodney McGruder",
           "2020-21"
          ],
          [
           "Jevon Carter",
           "2018-19"
          ],
          [
           "Bogdan Bogdanović",
           "2024-25"
          ],
          [
           "Nerlens Noel",
           "2015-16"
          ],
          [
           "Georges Niang",
           "2024-25"
          ],
          [
           "DeMar DeRozan",
           "2015-16"
          ],
          [
           "Kenrich Williams",
           "2024-25"
          ],
          [
           "John Henson",
           "2019-20"
          ],
          [
           "Immanuel Quickley",
           "2023-24"
          ],
          [
           "Armoni Brooks",
           "2021-22"
          ],
          [
           "Joe Ingles",
           "2020-21"
          ],
          [
           "Jerian Grant",
           "2017-18"
          ],
          [
           "Treveon Graham",
           "2019-20"
          ],
          [
           "Grant Williams",
           "2024-25"
          ],
          [
           "James Anderson",
           "2015-16"
          ],
          [
           "Donovan Clingan",
           "2024-25"
          ],
          [
           "Marcin Gortat",
           "2015-16"
          ],
          [
           "Troy Williams",
           "2016-17"
          ],
          [
           "Rodney Hood",
           "2019-20"
          ],
          [
           "Udoka Azubuike",
           "2021-22"
          ],
          [
           "Dwayne Bacon",
           "2020-21"
          ],
          [
           "Garrison Mathews",
           "2020-21"
          ],
          [
           "Joel Embiid",
           "2017-18"
          ],
          [
           "Wayne Ellington",
           "2016-17"
          ],
          [
           "Bogdan Bogdanović",
           "2022-23"
          ],
          [
           "Justin Holiday",
           "2019-20"
          ],
          [
           "Abdel Nader",
           "2019-20"
          ],
          [
           "Kemba Walker",
           "2017-18"
          ],
          [
           "Allonzo Trier",
           "2019-20"
          ],
          [
           "Tim Hardaway Jr.",
           "2020-21"
          ],
          [
           "Caris LeVert",
           "2020-21"
          ],
          [
           "Rudy Gay",
           "2020-21"
          ],
          [
           "Klay Thompson",
           "2021-22"
          ],
          [
           "Austin Rivers",
           "2017-18"
          ],
          [
           "DeMarre Carroll",
           "2015-16"
          ],
          [
           "DeAndre' Bembry",
           "2020-21"
          ],
          [
           "Richard Jefferson",
           "2016-17"
          ],
          [
           "Mike Scott",
           "2015-16"
          ],
          [
           "John Collins",
           "2023-24"
          ],
          [
           "Cam Reddish",
           "2024-25"
          ],
          [
           "Serge Ibaka",
           "2016-17"
          ],
          [
           "Jared Dudley",
           "2018-19"
          ],
          [
           "Chase Budinger",
           "2015-16"
          ],
          [
           "Dion Waiters",
           "2019-20"
          ],
          [
           "Rob Dillingham",
           "2024-25"
          ],
          [
           "Jared Sullinger",
           "2015-16"
          ],
          [
           "Lamar Patterson",
           "2015-16"
          ],
          [
           "Dejounte Murray",
           "2024-25"
          ],
          [
           "Jabari Parker",
           "2017-18"
          ],
          [
           "Meyers Leonard",
           "2015-16"
          ],
          [
           "Jalen Green",
           "2022-23"
          ],
          [
           "Dennis Smith Jr.",
           "2023-24"
          ],
          [
           "Ivica Zubac",
           "2018-19"
          ],
          [
           "Alperen Sengun",
           "2022-23"
          ],
          [
           "Jock Landale",
           "2022-23"
          ],
          [
           "Thaddeus Young",
           "2015-16"
          ],
          [
           "Aaron Holiday",
           "2024-25"
          ],
          [
           "Marcus Smart",
           "2015-16"
          ],
          [
           "Vasilije Micić",
           "2024-25"
          ],
          [
           "Gary Neal",
           "2015-16"
          ],
          [
           "Delon Wright",
           "2024-25"
          ],
          [
           "Ousmane Dieng",
           "2022-23"
          ],
          [
           "Wayne Selden",
           "2017-18"
          ],
          [
           "Raymond Felton",
           "2018-19"
          ],
          [
           "Isaiah Hartenstein",
           "2021-22"
          ],
          [
           "Quinn Cook",
           "2016-17"
          ],
          [
           "Boban Marjanović",
           "2018-19"
          ],
          [
           "Trevor Ariza",
           "2016-17"
          ],
          [
           "Ibou Badji",
           "2023-24"
          ],
          [
           "Wayne Ellington",
           "2019-20"
          ],
          [
           "DeMar DeRozan",
           "2016-17"
          ],
          [
           "Andre Drummond",
           "2019-20"
          ],
          [
           "Christian Wood",
           "2023-24"
          ],
          [
           "Nicolo Melli",
           "2020-21"
          ],
          [
           "Wesley Johnson",
           "2015-16"
          ],
          [
           "Alec Burks",
           "2020-21"
          ],
          [
           "Patrick Beverley",
           "2018-19"
          ],
          [
           "Myles Turner",
           "2015-16"
          ],
          [
           "Quentin Grimes",
           "2021-22"
          ],
          [
           "Georges Niang",
           "2020-21"
          ],
          [
           "John Konchar",
           "2024-25"
          ],
          [
           "Tyrone Wallace",
           "2018-19"
          ],
          [
           "Simone Fontecchio",
           "2023-24"
          ],
          [
           "John Henson",
           "2016-17"
          ],
          [
           "Luguentz Dort",
           "2019-20"
          ],
          [
           "Jalen McDaniels",
           "2019-20"
          ],
          [
           "Andrew Harrison",
           "2018-19"
          ],
          [
           "Trent Forrest",
           "2022-23"
          ],
          [
           "Luguentz Dort",
           "2021-22"
          ],
          [
           "Ekpe Udoh",
           "2017-18"
          ],
          [
           "JaMychal Green",
           "2017-18"
          ],
          [
           "Stanley Johnson",
           "2017-18"
          ],
          [
           "Garrett Temple",
           "2015-16"
          ],
          [
           "Pat Connaughton",
           "2018-19"
          ],
          [
           "Jericho Sims",
           "2024-25"
          ],
          [
           "Chris Paul",
           "2018-19"
          ],
          [
           "Dewayne Dedmon",
           "2015-16"
          ],
          [
           "Buddy Hield",
           "2021-22"
          ],
          [
           "Cameron Johnson",
           "2023-24"
          ],
          [
           "Raul Neto",
           "2019-20"
          ],
          [
           "CJ Elleby",
           "2021-22"
          ],
          [
           "Wesley Matthews",
           "2022-23"
          ],
          [
           "Patrick Williams",
           "2023-24"
          ],
          [
           "LeBron James",
           "2023-24"
          ],
          [
           "Nick Young",
           "2015-16"
          ],
          [
           "Deandre Ayton",
           "2020-21"
          ],
          [
           "De'Andre Hunter",
           "2022-23"
          ],
          [
           "Randy Foye",
           "2015-16"
          ],
          [
           "Kevin Knox II",
           "2022-23"
          ],
          [
           "Jamison Battle",
           "2024-25"
          ],
          [
           "Zaza Pachulia",
           "2018-19"
          ],
          [
           "Alex Len",
           "2021-22"
          ],
          [
           "Josh Okogie",
           "2019-20"
          ],
          [
           "Gorgui Dieng",
           "2018-19"
          ],
          [
           "Klay Thompson",
           "2024-25"
          ],
          [
           "Tyrese Maxey",
           "2023-24"
          ],
          [
           "AJ Green",
           "2023-24"
          ],
          [
           "George Hill",
           "2018-19"
          ],
          [
           "Marques Bolden",
           "2023-24"
          ],
          [
           "Russell Westbrook",
           "2022-23"
          ],
          [
           "Rui Hachimura",
           "2022-23"
          ],
          [
           "Justise Winslow",
           "2019-20"
          ],
          [
           "Cody Zeller",
           "2018-19"
          ],
          [
           "Jalen Duren",
           "2023-24"
          ],
          [
           "Amir Coffey",
           "2022-23"
          ],
          [
           "Brad Wanamaker",
           "2020-21"
          ],
          [
           "Bobby Portis",
           "2019-20"
          ],
          [
           "Malik Beasley",
           "2018-19"
          ],
          [
           "Justin Holiday",
           "2018-19"
          ],
          [
           "Devin Vassell",
           "2021-22"
          ],
          [
           "Kawhi Leonard",
           "2023-24"
          ],
          [
           "Karl-Anthony Towns",
           "2022-23"
          ],
          [
           "Malik Monk",
           "2021-22"
          ],
          [
           "Dennis Schröder",
           "2018-19"
          ],
          [
           "Ja Morant",
           "2020-21"
          ],
          [
           "Jahlil Okafor",
           "2016-17"
          ],
          [
           "Pat Connaughton",
           "2023-24"
          ],
          [
           "Jarrett Allen",
           "2018-19"
          ],
          [
           "Elfrid Payton",
           "2017-18"
          ],
          [
           "Miles Bridges",
           "2020-21"
          ],
          [
           "Devin Robinson",
           "2018-19"
          ],
          [
           "Delon Wright",
           "2018-19"
          ],
          [
           "Dwight Powell",
           "2024-25"
          ],
          [
           "Dwight Howard",
           "2016-17"
          ],
          [
           "Fred VanVleet",
           "2021-22"
          ],
          [
           "Larry Nance Jr.",
           "2017-18"
          ],
          [
           "Svi Mykhailiuk",
           "2024-25"
          ],
          [
           "Skylar Mays",
           "2021-22"
          ],
          [
           "Jarell Martin",
           "2016-17"
          ],
          [
           "Lance Thomas",
           "2016-17"
          ],
          [
           "Mirza Teletovic",
           "2017-18"
          ],
          [
           "Zeke Nnaji",
           "2021-22"
          ],
          [
           "Marc Gasol",
           "2020-21"
          ],
          [
           "Jameer Nelson",
           "2017-18"
          ],
          [
           "Justin Anderson",
           "2016-17"
          ],
          [
           "OG Anunoby",
           "2021-22"
          ],
          [
           "Svi Mykhailiuk",
           "2020-21"
          ],
          [
           "Nickeil Alexander-Walker",
           "2020-21"
          ],
          [
           "Chandler Parsons",
           "2015-16"
          ],
          [
           "Wesley Matthews",
           "2019-20"
          ],
          [
           "Aaron Brooks",
           "2016-17"
          ],
          [
           "CJ McCollum",
           "2020-21"
          ],
          [
           "Jevon Carter",
           "2022-23"
          ],
          [
           "Jarrett Jack",
           "2015-16"
          ],
          [
           "Trendon Watford",
           "2024-25"
          ],
          [
           "Markelle Fultz",
           "2020-21"
          ],
          [
           "Dwight Howard",
           "2015-16"
          ],
          [
           "Anthony Edwards",
           "2020-21"
          ]
         ],
         "hovertemplate": "0=%{x}<br>1=%{y}<br>2=%{z}<br>size=%{marker.size}<br>PLAYER_NAME=%{customdata[0]}<br>SEASON=%{customdata[1]}<extra></extra>",
         "legendgroup": "",
         "marker": {
          "color": "#636efa",
          "size": {
           "bdata": "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",
           "dtype": "f8"
          },
          "sizemode": "area",
          "sizeref": 2.5000000000000002e-8,
          "symbol": "circle"
         },
         "mode": "markers",
         "name": "",
         "scene": "scene",
         "showlegend": false,
         "type": "scatter3d",
         "x": {
          "bdata": "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",
          "dtype": "f4"
         },
         "y": {
          "bdata": "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",
          "dtype": "f4"
         },
         "z": {
          "bdata": "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",
          "dtype": "f4"
         }
        }
       ],
       "layout": {
        "legend": {
         "itemsizing": "constant",
         "tracegroupgap": 0
        },
        "scene": {
         "domain": {
          "x": [
           0,
           1
          ],
          "y": [
           0,
           1
          ]
         },
         "xaxis": {
          "title": {
           "text": "0"
          }
         },
         "yaxis": {
          "title": {
           "text": "1"
          }
         },
         "zaxis": {
          "title": {
           "text": "2"
          }
         }
        },
        "template": {
         "data": {
          "bar": [
           {
            "error_x": {
             "color": "#2a3f5f"
            },
            "error_y": {
             "color": "#2a3f5f"
            },
            "marker": {
             "line": {
              "color": "#E5ECF6",
              "width": 0.5
             },
             "pattern": {
              "fillmode": "overlay",
              "size": 10,
              "solidity": 0.2
             }
            },
            "type": "bar"
           }
          ],
          "barpolar": [
           {
            "marker": {
             "line": {
              "color": "#E5ECF6",
              "width": 0.5
             },
             "pattern": {
              "fillmode": "overlay",
              "size": 10,
              "solidity": 0.2
             }
            },
            "type": "barpolar"
           }
          ],
          "carpet": [
           {
            "aaxis": {
             "endlinecolor": "#2a3f5f",
             "gridcolor": "white",
             "linecolor": "white",
             "minorgridcolor": "white",
             "startlinecolor": "#2a3f5f"
            },
            "baxis": {
             "endlinecolor": "#2a3f5f",
             "gridcolor": "white",
             "linecolor": "white",
             "minorgridcolor": "white",
             "startlinecolor": "#2a3f5f"
            },
            "type": "carpet"
           }
          ],
          "choropleth": [
           {
            "colorbar": {
             "outlinewidth": 0,
             "ticks": ""
            },
            "type": "choropleth"
           }
          ],
          "contour": [
           {
            "colorbar": {
             "outlinewidth": 0,
             "ticks": ""
            },
            "colorscale": [
             [
              0,
              "#0d0887"
             ],
             [
              0.1111111111111111,
              "#46039f"
             ],
             [
              0.2222222222222222,
              "#7201a8"
             ],
             [
              0.3333333333333333,
              "#9c179e"
             ],
             [
              0.4444444444444444,
              "#bd3786"
             ],
             [
              0.5555555555555556,
              "#d8576b"
             ],
             [
              0.6666666666666666,
              "#ed7953"
             ],
             [
              0.7777777777777778,
              "#fb9f3a"
             ],
             [
              0.8888888888888888,
              "#fdca26"
             ],
             [
              1,
              "#f0f921"
             ]
            ],
            "type": "contour"
           }
          ],
          "contourcarpet": [
           {
            "colorbar": {
             "outlinewidth": 0,
             "ticks": ""
            },
            "type": "contourcarpet"
           }
          ],
          "heatmap": [
           {
            "colorbar": {
             "outlinewidth": 0,
             "ticks": ""
            },
            "colorscale": [
             [
              0,
              "#0d0887"
             ],
             [
              0.1111111111111111,
              "#46039f"
             ],
             [
              0.2222222222222222,
              "#7201a8"
             ],
             [
              0.3333333333333333,
              "#9c179e"
             ],
             [
              0.4444444444444444,
              "#bd3786"
             ],
             [
              0.5555555555555556,
              "#d8576b"
             ],
             [
              0.6666666666666666,
              "#ed7953"
             ],
             [
              0.7777777777777778,
              "#fb9f3a"
             ],
             [
              0.8888888888888888,
              "#fdca26"
             ],
             [
              1,
              "#f0f921"
             ]
            ],
            "type": "heatmap"
           }
          ],
          "histogram": [
           {
            "marker": {
             "pattern": {
              "fillmode": "overlay",
              "size": 10,
              "solidity": 0.2
             }
            },
            "type": "histogram"
           }
          ],
          "histogram2d": [
           {
            "colorbar": {
             "outlinewidth": 0,
             "ticks": ""
            },
            "colorscale": [
             [
              0,
              "#0d0887"
             ],
             [
              0.1111111111111111,
              "#46039f"
             ],
             [
              0.2222222222222222,
              "#7201a8"
             ],
             [
              0.3333333333333333,
              "#9c179e"
             ],
             [
              0.4444444444444444,
              "#bd3786"
             ],
             [
              0.5555555555555556,
              "#d8576b"
             ],
             [
              0.6666666666666666,
              "#ed7953"
             ],
             [
              0.7777777777777778,
              "#fb9f3a"
             ],
             [
              0.8888888888888888,
              "#fdca26"
             ],
             [
              1,
              "#f0f921"
             ]
            ],
            "type": "histogram2d"
           }
          ],
          "histogram2dcontour": [
           {
            "colorbar": {
             "outlinewidth": 0,
             "ticks": ""
            },
            "colorscale": [
             [
              0,
              "#0d0887"
             ],
             [
              0.1111111111111111,
              "#46039f"
             ],
             [
              0.2222222222222222,
              "#7201a8"
             ],
             [
              0.3333333333333333,
              "#9c179e"
             ],
             [
              0.4444444444444444,
              "#bd3786"
             ],
             [
              0.5555555555555556,
              "#d8576b"
             ],
             [
              0.6666666666666666,
              "#ed7953"
             ],
             [
              0.7777777777777778,
              "#fb9f3a"
             ],
             [
              0.8888888888888888,
              "#fdca26"
             ],
             [
              1,
              "#f0f921"
             ]
            ],
            "type": "histogram2dcontour"
           }
          ],
          "mesh3d": [
           {
            "colorbar": {
             "outlinewidth": 0,
             "ticks": ""
            },
            "type": "mesh3d"
           }
          ],
          "parcoords": [
           {
            "line": {
             "colorbar": {
              "outlinewidth": 0,
              "ticks": ""
             }
            },
            "type": "parcoords"
           }
          ],
          "pie": [
           {
            "automargin": true,
            "type": "pie"
           }
          ],
          "scatter": [
           {
            "fillpattern": {
             "fillmode": "overlay",
             "size": 10,
             "solidity": 0.2
            },
            "type": "scatter"
           }
          ],
          "scatter3d": [
           {
            "line": {
             "colorbar": {
              "outlinewidth": 0,
              "ticks": ""
             }
            },
            "marker": {
             "colorbar": {
              "outlinewidth": 0,
              "ticks": ""
             }
            },
            "type": "scatter3d"
           }
          ],
          "scattercarpet": [
           {
            "marker": {
             "colorbar": {
              "outlinewidth": 0,
              "ticks": ""
             }
            },
            "type": "scattercarpet"
           }
          ],
          "scattergeo": [
           {
            "marker": {
             "colorbar": {
              "outlinewidth": 0,
              "ticks": ""
             }
            },
            "type": "scattergeo"
           }
          ],
          "scattergl": [
           {
            "marker": {
             "colorbar": {
              "outlinewidth": 0,
              "ticks": ""
             }
            },
            "type": "scattergl"
           }
          ],
          "scattermap": [
           {
            "marker": {
             "colorbar": {
              "outlinewidth": 0,
              "ticks": ""
             }
            },
            "type": "scattermap"
           }
          ],
          "scattermapbox": [
           {
            "marker": {
             "colorbar": {
              "outlinewidth": 0,
              "ticks": ""
             }
            },
            "type": "scattermapbox"
           }
          ],
          "scatterpolar": [
           {
            "marker": {
             "colorbar": {
              "outlinewidth": 0,
              "ticks": ""
             }
            },
            "type": "scatterpolar"
           }
          ],
          "scatterpolargl": [
           {
            "marker": {
             "colorbar": {
              "outlinewidth": 0,
              "ticks": ""
             }
            },
            "type": "scatterpolargl"
           }
          ],
          "scatterternary": [
           {
            "marker": {
             "colorbar": {
              "outlinewidth": 0,
              "ticks": ""
             }
            },
            "type": "scatterternary"
           }
          ],
          "surface": [
           {
            "colorbar": {
             "outlinewidth": 0,
             "ticks": ""
            },
            "colorscale": [
             [
              0,
              "#0d0887"
             ],
             [
              0.1111111111111111,
              "#46039f"
             ],
             [
              0.2222222222222222,
              "#7201a8"
             ],
             [
              0.3333333333333333,
              "#9c179e"
             ],
             [
              0.4444444444444444,
              "#bd3786"
             ],
             [
              0.5555555555555556,
              "#d8576b"
             ],
             [
              0.6666666666666666,
              "#ed7953"
             ],
             [
              0.7777777777777778,
              "#fb9f3a"
             ],
             [
              0.8888888888888888,
              "#fdca26"
             ],
             [
              1,
              "#f0f921"
             ]
            ],
            "type": "surface"
           }
          ],
          "table": [
           {
            "cells": {
             "fill": {
              "color": "#EBF0F8"
             },
             "line": {
              "color": "white"
             }
            },
            "header": {
             "fill": {
              "color": "#C8D4E3"
             },
             "line": {
              "color": "white"
             }
            },
            "type": "table"
           }
          ]
         },
         "layout": {
          "annotationdefaults": {
           "arrowcolor": "#2a3f5f",
           "arrowhead": 0,
           "arrowwidth": 1
          },
          "autotypenumbers": "strict",
          "coloraxis": {
           "colorbar": {
            "outlinewidth": 0,
            "ticks": ""
           }
          },
          "colorscale": {
           "diverging": [
            [
             0,
             "#8e0152"
            ],
            [
             0.1,
             "#c51b7d"
            ],
            [
             0.2,
             "#de77ae"
            ],
            [
             0.3,
             "#f1b6da"
            ],
            [
             0.4,
             "#fde0ef"
            ],
            [
             0.5,
             "#f7f7f7"
            ],
            [
             0.6,
             "#e6f5d0"
            ],
            [
             0.7,
             "#b8e186"
            ],
            [
             0.8,
             "#7fbc41"
            ],
            [
             0.9,
             "#4d9221"
            ],
            [
             1,
             "#276419"
            ]
           ],
           "sequential": [
            [
             0,
             "#0d0887"
            ],
            [
             0.1111111111111111,
             "#46039f"
            ],
            [
             0.2222222222222222,
             "#7201a8"
            ],
            [
             0.3333333333333333,
             "#9c179e"
            ],
            [
             0.4444444444444444,
             "#bd3786"
            ],
            [
             0.5555555555555556,
             "#d8576b"
            ],
            [
             0.6666666666666666,
             "#ed7953"
            ],
            [
             0.7777777777777778,
             "#fb9f3a"
            ],
            [
             0.8888888888888888,
             "#fdca26"
            ],
            [
             1,
             "#f0f921"
            ]
           ],
           "sequentialminus": [
            [
             0,
             "#0d0887"
            ],
            [
             0.1111111111111111,
             "#46039f"
            ],
            [
             0.2222222222222222,
             "#7201a8"
            ],
            [
             0.3333333333333333,
             "#9c179e"
            ],
            [
             0.4444444444444444,
             "#bd3786"
            ],
            [
             0.5555555555555556,
             "#d8576b"
            ],
            [
             0.6666666666666666,
             "#ed7953"
            ],
            [
             0.7777777777777778,
             "#fb9f3a"
            ],
            [
             0.8888888888888888,
             "#fdca26"
            ],
            [
             1,
             "#f0f921"
            ]
           ]
          },
          "colorway": [
           "#636efa",
           "#EF553B",
           "#00cc96",
           "#ab63fa",
           "#FFA15A",
           "#19d3f3",
           "#FF6692",
           "#B6E880",
           "#FF97FF",
           "#FECB52"
          ],
          "font": {
           "color": "#2a3f5f"
          },
          "geo": {
           "bgcolor": "white",
           "lakecolor": "white",
           "landcolor": "#E5ECF6",
           "showlakes": true,
           "showland": true,
           "subunitcolor": "white"
          },
          "hoverlabel": {
           "align": "left"
          },
          "hovermode": "closest",
          "mapbox": {
           "style": "light"
          },
          "paper_bgcolor": "white",
          "plot_bgcolor": "#E5ECF6",
          "polar": {
           "angularaxis": {
            "gridcolor": "white",
            "linecolor": "white",
            "ticks": ""
           },
           "bgcolor": "#E5ECF6",
           "radialaxis": {
            "gridcolor": "white",
            "linecolor": "white",
            "ticks": ""
           }
          },
          "scene": {
           "xaxis": {
            "backgroundcolor": "#E5ECF6",
            "gridcolor": "white",
            "gridwidth": 2,
            "linecolor": "white",
            "showbackground": true,
            "ticks": "",
            "zerolinecolor": "white"
           },
           "yaxis": {
            "backgroundcolor": "#E5ECF6",
            "gridcolor": "white",
            "gridwidth": 2,
            "linecolor": "white",
            "showbackground": true,
            "ticks": "",
            "zerolinecolor": "white"
           },
           "zaxis": {
            "backgroundcolor": "#E5ECF6",
            "gridcolor": "white",
            "gridwidth": 2,
            "linecolor": "white",
            "showbackground": true,
            "ticks": "",
            "zerolinecolor": "white"
           }
          },
          "shapedefaults": {
           "line": {
            "color": "#2a3f5f"
           }
          },
          "ternary": {
           "aaxis": {
            "gridcolor": "white",
            "linecolor": "white",
            "ticks": ""
           },
           "baxis": {
            "gridcolor": "white",
            "linecolor": "white",
            "ticks": ""
           },
           "bgcolor": "#E5ECF6",
           "caxis": {
            "gridcolor": "white",
            "linecolor": "white",
            "ticks": ""
           }
          },
          "title": {
           "x": 0.05
          },
          "xaxis": {
           "automargin": true,
           "gridcolor": "white",
           "linecolor": "white",
           "ticks": "",
           "title": {
            "standoff": 15
           },
           "zerolinecolor": "white",
           "zerolinewidth": 2
          },
          "yaxis": {
           "automargin": true,
           "gridcolor": "white",
           "linecolor": "white",
           "ticks": "",
           "title": {
            "standoff": 15
           },
           "zerolinecolor": "white",
           "zerolinewidth": 2
          }
         }
        },
        "title": {
         "text": "3D Scatter Plot of Player Embeddings"
        }
       }
      }
     },
     "metadata": {},
     "output_type": "display_data"
    }
   ],
   "source": [
    "# create the scatter plot\n",
    "x_test_results['size'] = .00001\n",
    "\n",
    "import plotly.express as px\n",
    "fig = px.scatter_3d(x_test_results, x=0, y=1, z=2,\n",
    "              hover_data=['PLAYER_NAME', 'SEASON'], size='size',\n",
    "              title='3D Scatter Plot of Player Embeddings',)\n",
    "fig.show()"
   ]
  }
 ],
 "metadata": {
  "kernelspec": {
   "display_name": "4420_project",
   "language": "python",
   "name": "python3"
  },
  "language_info": {
   "codemirror_mode": {
    "name": "ipython",
    "version": 3
   },
   "file_extension": ".py",
   "mimetype": "text/x-python",
   "name": "python",
   "nbconvert_exporter": "python",
   "pygments_lexer": "ipython3",
   "version": "3.13.2"
  }
 },
 "nbformat": 4,
 "nbformat_minor": 2
}
