{
 "cells": [
  {
   "cell_type": "code",
   "execution_count": 14,
   "metadata": {},
   "outputs": [],
   "source": [
    "import numpy as np\n",
    "import pandas as pd\n",
    "import matplotlib.pyplot as plt\n",
    "import plotly.graph_objects as go\n",
    "import plotly.express as px\n",
    "from plotly.subplots import make_subplots"
   ]
  },
  {
   "cell_type": "code",
   "execution_count": 102,
   "metadata": {},
   "outputs": [
    {
     "data": {
      "text/html": [
       "<div>\n",
       "<style scoped>\n",
       "    .dataframe tbody tr th:only-of-type {\n",
       "        vertical-align: middle;\n",
       "    }\n",
       "\n",
       "    .dataframe tbody tr th {\n",
       "        vertical-align: top;\n",
       "    }\n",
       "\n",
       "    .dataframe thead th {\n",
       "        text-align: right;\n",
       "    }\n",
       "</style>\n",
       "<table border=\"1\" class=\"dataframe\">\n",
       "  <thead>\n",
       "    <tr style=\"text-align: right;\">\n",
       "      <th></th>\n",
       "      <th>SEASON_ID</th>\n",
       "      <th>PLAYER_ID</th>\n",
       "      <th>PLAYER_NAME</th>\n",
       "      <th>TEAM_ID</th>\n",
       "      <th>TEAM_ABBREVIATION</th>\n",
       "      <th>TEAM_NAME</th>\n",
       "      <th>TYPE_GROUPING</th>\n",
       "      <th>PERCENTILE_Isolation</th>\n",
       "      <th>GP_Isolation</th>\n",
       "      <th>POSS_PCT_Isolation</th>\n",
       "      <th>...</th>\n",
       "      <th>TOV_POSS_PCT_Misc</th>\n",
       "      <th>SF_POSS_PCT_Misc</th>\n",
       "      <th>PLUSONE_POSS_PCT_Misc</th>\n",
       "      <th>SCORE_POSS_PCT_Misc</th>\n",
       "      <th>EFG_PCT_Misc</th>\n",
       "      <th>POSS_Misc</th>\n",
       "      <th>PTS_Misc</th>\n",
       "      <th>FGM_Misc</th>\n",
       "      <th>FGA_Misc</th>\n",
       "      <th>FGMX_Misc</th>\n",
       "    </tr>\n",
       "  </thead>\n",
       "  <tbody>\n",
       "    <tr>\n",
       "      <th>0</th>\n",
       "      <td>22015</td>\n",
       "      <td>708</td>\n",
       "      <td>Kevin Garnett</td>\n",
       "      <td>1610612750</td>\n",
       "      <td>MIN</td>\n",
       "      <td>Minnesota Timberwolves</td>\n",
       "      <td>Offensive</td>\n",
       "      <td>NaN</td>\n",
       "      <td>NaN</td>\n",
       "      <td>NaN</td>\n",
       "      <td>...</td>\n",
       "      <td>0.824</td>\n",
       "      <td>0.000</td>\n",
       "      <td>0.00</td>\n",
       "      <td>0.176</td>\n",
       "      <td>0.000</td>\n",
       "      <td>0.4</td>\n",
       "      <td>0.1</td>\n",
       "      <td>0.0</td>\n",
       "      <td>0.0</td>\n",
       "      <td>0.0</td>\n",
       "    </tr>\n",
       "    <tr>\n",
       "      <th>1</th>\n",
       "      <td>22015</td>\n",
       "      <td>977</td>\n",
       "      <td>Kobe Bryant</td>\n",
       "      <td>1610612747</td>\n",
       "      <td>LAL</td>\n",
       "      <td>Los Angeles Lakers</td>\n",
       "      <td>Offensive</td>\n",
       "      <td>0.292</td>\n",
       "      <td>66.0</td>\n",
       "      <td>0.199</td>\n",
       "      <td>...</td>\n",
       "      <td>0.407</td>\n",
       "      <td>0.051</td>\n",
       "      <td>0.00</td>\n",
       "      <td>0.254</td>\n",
       "      <td>0.119</td>\n",
       "      <td>0.9</td>\n",
       "      <td>0.5</td>\n",
       "      <td>0.0</td>\n",
       "      <td>0.3</td>\n",
       "      <td>0.3</td>\n",
       "    </tr>\n",
       "    <tr>\n",
       "      <th>2</th>\n",
       "      <td>22015</td>\n",
       "      <td>1495</td>\n",
       "      <td>Tim Duncan</td>\n",
       "      <td>1610612759</td>\n",
       "      <td>SAS</td>\n",
       "      <td>San Antonio Spurs</td>\n",
       "      <td>Offensive</td>\n",
       "      <td>NaN</td>\n",
       "      <td>NaN</td>\n",
       "      <td>NaN</td>\n",
       "      <td>...</td>\n",
       "      <td>0.803</td>\n",
       "      <td>0.015</td>\n",
       "      <td>0.00</td>\n",
       "      <td>0.167</td>\n",
       "      <td>0.600</td>\n",
       "      <td>1.1</td>\n",
       "      <td>0.3</td>\n",
       "      <td>0.0</td>\n",
       "      <td>0.1</td>\n",
       "      <td>0.0</td>\n",
       "    </tr>\n",
       "    <tr>\n",
       "      <th>3</th>\n",
       "      <td>22015</td>\n",
       "      <td>1713</td>\n",
       "      <td>Vince Carter</td>\n",
       "      <td>1610612763</td>\n",
       "      <td>MEM</td>\n",
       "      <td>Memphis Grizzlies</td>\n",
       "      <td>Offensive</td>\n",
       "      <td>0.021</td>\n",
       "      <td>60.0</td>\n",
       "      <td>0.049</td>\n",
       "      <td>...</td>\n",
       "      <td>0.286</td>\n",
       "      <td>0.071</td>\n",
       "      <td>0.04</td>\n",
       "      <td>0.500</td>\n",
       "      <td>0.500</td>\n",
       "      <td>0.5</td>\n",
       "      <td>0.5</td>\n",
       "      <td>0.1</td>\n",
       "      <td>0.2</td>\n",
       "      <td>0.1</td>\n",
       "    </tr>\n",
       "    <tr>\n",
       "      <th>4</th>\n",
       "      <td>22015</td>\n",
       "      <td>1717</td>\n",
       "      <td>Dirk Nowitzki</td>\n",
       "      <td>1610612742</td>\n",
       "      <td>DAL</td>\n",
       "      <td>Dallas Mavericks</td>\n",
       "      <td>Offensive</td>\n",
       "      <td>0.938</td>\n",
       "      <td>75.0</td>\n",
       "      <td>0.046</td>\n",
       "      <td>...</td>\n",
       "      <td>0.383</td>\n",
       "      <td>0.000</td>\n",
       "      <td>0.00</td>\n",
       "      <td>0.500</td>\n",
       "      <td>0.222</td>\n",
       "      <td>0.8</td>\n",
       "      <td>0.7</td>\n",
       "      <td>0.0</td>\n",
       "      <td>0.1</td>\n",
       "      <td>0.1</td>\n",
       "    </tr>\n",
       "    <tr>\n",
       "      <th>...</th>\n",
       "      <td>...</td>\n",
       "      <td>...</td>\n",
       "      <td>...</td>\n",
       "      <td>...</td>\n",
       "      <td>...</td>\n",
       "      <td>...</td>\n",
       "      <td>...</td>\n",
       "      <td>...</td>\n",
       "      <td>...</td>\n",
       "      <td>...</td>\n",
       "      <td>...</td>\n",
       "      <td>...</td>\n",
       "      <td>...</td>\n",
       "      <td>...</td>\n",
       "      <td>...</td>\n",
       "      <td>...</td>\n",
       "      <td>...</td>\n",
       "      <td>...</td>\n",
       "      <td>...</td>\n",
       "      <td>...</td>\n",
       "      <td>...</td>\n",
       "    </tr>\n",
       "    <tr>\n",
       "      <th>4698</th>\n",
       "      <td>22024</td>\n",
       "      <td>1642358</td>\n",
       "      <td>AJ Johnson</td>\n",
       "      <td>1610612764</td>\n",
       "      <td>WAS</td>\n",
       "      <td>Washington Wizards</td>\n",
       "      <td>Offensive</td>\n",
       "      <td>NaN</td>\n",
       "      <td>NaN</td>\n",
       "      <td>NaN</td>\n",
       "      <td>...</td>\n",
       "      <td>NaN</td>\n",
       "      <td>NaN</td>\n",
       "      <td>NaN</td>\n",
       "      <td>NaN</td>\n",
       "      <td>NaN</td>\n",
       "      <td>NaN</td>\n",
       "      <td>NaN</td>\n",
       "      <td>NaN</td>\n",
       "      <td>NaN</td>\n",
       "      <td>NaN</td>\n",
       "    </tr>\n",
       "    <tr>\n",
       "      <th>4699</th>\n",
       "      <td>22024</td>\n",
       "      <td>1642366</td>\n",
       "      <td>Quinten Post</td>\n",
       "      <td>1610612744</td>\n",
       "      <td>GSW</td>\n",
       "      <td>Golden State Warriors</td>\n",
       "      <td>Offensive</td>\n",
       "      <td>NaN</td>\n",
       "      <td>NaN</td>\n",
       "      <td>NaN</td>\n",
       "      <td>...</td>\n",
       "      <td>0.889</td>\n",
       "      <td>0.000</td>\n",
       "      <td>0.00</td>\n",
       "      <td>0.000</td>\n",
       "      <td>0.000</td>\n",
       "      <td>0.5</td>\n",
       "      <td>0.0</td>\n",
       "      <td>0.0</td>\n",
       "      <td>0.0</td>\n",
       "      <td>0.0</td>\n",
       "    </tr>\n",
       "    <tr>\n",
       "      <th>4700</th>\n",
       "      <td>22024</td>\n",
       "      <td>1642367</td>\n",
       "      <td>Jonathan Mogbo</td>\n",
       "      <td>1610612761</td>\n",
       "      <td>TOR</td>\n",
       "      <td>Toronto Raptors</td>\n",
       "      <td>Offensive</td>\n",
       "      <td>0.779</td>\n",
       "      <td>52.0</td>\n",
       "      <td>0.031</td>\n",
       "      <td>...</td>\n",
       "      <td>0.600</td>\n",
       "      <td>0.000</td>\n",
       "      <td>0.00</td>\n",
       "      <td>0.200</td>\n",
       "      <td>0.375</td>\n",
       "      <td>0.5</td>\n",
       "      <td>0.2</td>\n",
       "      <td>0.1</td>\n",
       "      <td>0.2</td>\n",
       "      <td>0.1</td>\n",
       "    </tr>\n",
       "    <tr>\n",
       "      <th>4701</th>\n",
       "      <td>22024</td>\n",
       "      <td>1642377</td>\n",
       "      <td>Jaylen Wells</td>\n",
       "      <td>1610612763</td>\n",
       "      <td>MEM</td>\n",
       "      <td>Memphis Grizzlies</td>\n",
       "      <td>Offensive</td>\n",
       "      <td>0.341</td>\n",
       "      <td>71.0</td>\n",
       "      <td>0.059</td>\n",
       "      <td>...</td>\n",
       "      <td>0.303</td>\n",
       "      <td>0.091</td>\n",
       "      <td>0.00</td>\n",
       "      <td>0.455</td>\n",
       "      <td>0.375</td>\n",
       "      <td>0.5</td>\n",
       "      <td>0.4</td>\n",
       "      <td>0.1</td>\n",
       "      <td>0.2</td>\n",
       "      <td>0.1</td>\n",
       "    </tr>\n",
       "    <tr>\n",
       "      <th>4702</th>\n",
       "      <td>22024</td>\n",
       "      <td>1642419</td>\n",
       "      <td>Jamison Battle</td>\n",
       "      <td>1610612761</td>\n",
       "      <td>TOR</td>\n",
       "      <td>Toronto Raptors</td>\n",
       "      <td>Offensive</td>\n",
       "      <td>NaN</td>\n",
       "      <td>NaN</td>\n",
       "      <td>NaN</td>\n",
       "      <td>...</td>\n",
       "      <td>NaN</td>\n",
       "      <td>NaN</td>\n",
       "      <td>NaN</td>\n",
       "      <td>NaN</td>\n",
       "      <td>NaN</td>\n",
       "      <td>NaN</td>\n",
       "      <td>NaN</td>\n",
       "      <td>NaN</td>\n",
       "      <td>NaN</td>\n",
       "      <td>NaN</td>\n",
       "    </tr>\n",
       "  </tbody>\n",
       "</table>\n",
       "<p>4703 rows × 183 columns</p>\n",
       "</div>"
      ],
      "text/plain": [
       "      SEASON_ID  PLAYER_ID     PLAYER_NAME     TEAM_ID TEAM_ABBREVIATION  \\\n",
       "0         22015        708   Kevin Garnett  1610612750               MIN   \n",
       "1         22015        977     Kobe Bryant  1610612747               LAL   \n",
       "2         22015       1495      Tim Duncan  1610612759               SAS   \n",
       "3         22015       1713    Vince Carter  1610612763               MEM   \n",
       "4         22015       1717   Dirk Nowitzki  1610612742               DAL   \n",
       "...         ...        ...             ...         ...               ...   \n",
       "4698      22024    1642358      AJ Johnson  1610612764               WAS   \n",
       "4699      22024    1642366    Quinten Post  1610612744               GSW   \n",
       "4700      22024    1642367  Jonathan Mogbo  1610612761               TOR   \n",
       "4701      22024    1642377    Jaylen Wells  1610612763               MEM   \n",
       "4702      22024    1642419  Jamison Battle  1610612761               TOR   \n",
       "\n",
       "                   TEAM_NAME TYPE_GROUPING  PERCENTILE_Isolation  \\\n",
       "0     Minnesota Timberwolves     Offensive                   NaN   \n",
       "1         Los Angeles Lakers     Offensive                 0.292   \n",
       "2          San Antonio Spurs     Offensive                   NaN   \n",
       "3          Memphis Grizzlies     Offensive                 0.021   \n",
       "4           Dallas Mavericks     Offensive                 0.938   \n",
       "...                      ...           ...                   ...   \n",
       "4698      Washington Wizards     Offensive                   NaN   \n",
       "4699   Golden State Warriors     Offensive                   NaN   \n",
       "4700         Toronto Raptors     Offensive                 0.779   \n",
       "4701       Memphis Grizzlies     Offensive                 0.341   \n",
       "4702         Toronto Raptors     Offensive                   NaN   \n",
       "\n",
       "      GP_Isolation  POSS_PCT_Isolation  ...  TOV_POSS_PCT_Misc  \\\n",
       "0              NaN                 NaN  ...              0.824   \n",
       "1             66.0               0.199  ...              0.407   \n",
       "2              NaN                 NaN  ...              0.803   \n",
       "3             60.0               0.049  ...              0.286   \n",
       "4             75.0               0.046  ...              0.383   \n",
       "...            ...                 ...  ...                ...   \n",
       "4698           NaN                 NaN  ...                NaN   \n",
       "4699           NaN                 NaN  ...              0.889   \n",
       "4700          52.0               0.031  ...              0.600   \n",
       "4701          71.0               0.059  ...              0.303   \n",
       "4702           NaN                 NaN  ...                NaN   \n",
       "\n",
       "      SF_POSS_PCT_Misc  PLUSONE_POSS_PCT_Misc  SCORE_POSS_PCT_Misc  \\\n",
       "0                0.000                   0.00                0.176   \n",
       "1                0.051                   0.00                0.254   \n",
       "2                0.015                   0.00                0.167   \n",
       "3                0.071                   0.04                0.500   \n",
       "4                0.000                   0.00                0.500   \n",
       "...                ...                    ...                  ...   \n",
       "4698               NaN                    NaN                  NaN   \n",
       "4699             0.000                   0.00                0.000   \n",
       "4700             0.000                   0.00                0.200   \n",
       "4701             0.091                   0.00                0.455   \n",
       "4702               NaN                    NaN                  NaN   \n",
       "\n",
       "      EFG_PCT_Misc  POSS_Misc  PTS_Misc  FGM_Misc  FGA_Misc  FGMX_Misc  \n",
       "0            0.000        0.4       0.1       0.0       0.0        0.0  \n",
       "1            0.119        0.9       0.5       0.0       0.3        0.3  \n",
       "2            0.600        1.1       0.3       0.0       0.1        0.0  \n",
       "3            0.500        0.5       0.5       0.1       0.2        0.1  \n",
       "4            0.222        0.8       0.7       0.0       0.1        0.1  \n",
       "...            ...        ...       ...       ...       ...        ...  \n",
       "4698           NaN        NaN       NaN       NaN       NaN        NaN  \n",
       "4699         0.000        0.5       0.0       0.0       0.0        0.0  \n",
       "4700         0.375        0.5       0.2       0.1       0.2        0.1  \n",
       "4701         0.375        0.5       0.4       0.1       0.2        0.1  \n",
       "4702           NaN        NaN       NaN       NaN       NaN        NaN  \n",
       "\n",
       "[4703 rows x 183 columns]"
      ]
     },
     "execution_count": 102,
     "metadata": {},
     "output_type": "execute_result"
    }
   ],
   "source": [
    "df = pd.read_csv('synergy_all_playtypes_2015_to_2025.csv')\n",
    "df"
   ]
  },
  {
   "cell_type": "code",
   "execution_count": 3,
   "metadata": {},
   "outputs": [
    {
     "data": {
      "text/html": [
       "<div>\n",
       "<style scoped>\n",
       "    .dataframe tbody tr th:only-of-type {\n",
       "        vertical-align: middle;\n",
       "    }\n",
       "\n",
       "    .dataframe tbody tr th {\n",
       "        vertical-align: top;\n",
       "    }\n",
       "\n",
       "    .dataframe thead th {\n",
       "        text-align: right;\n",
       "    }\n",
       "</style>\n",
       "<table border=\"1\" class=\"dataframe\">\n",
       "  <thead>\n",
       "    <tr style=\"text-align: right;\">\n",
       "      <th></th>\n",
       "      <th>POSS_PCT_Isolation</th>\n",
       "      <th>PPP_Isolation</th>\n",
       "      <th>FG_PCT_Isolation</th>\n",
       "      <th>FT_POSS_PCT_Isolation</th>\n",
       "      <th>TOV_POSS_PCT_Isolation</th>\n",
       "      <th>SF_POSS_PCT_Isolation</th>\n",
       "      <th>PLUSONE_POSS_PCT_Isolation</th>\n",
       "      <th>SCORE_POSS_PCT_Isolation</th>\n",
       "      <th>EFG_PCT_Isolation</th>\n",
       "      <th>POSS_PCT_Transition</th>\n",
       "      <th>...</th>\n",
       "      <th>EFG_PCT_OffRebound</th>\n",
       "      <th>POSS_PCT_Misc</th>\n",
       "      <th>PPP_Misc</th>\n",
       "      <th>FG_PCT_Misc</th>\n",
       "      <th>FT_POSS_PCT_Misc</th>\n",
       "      <th>TOV_POSS_PCT_Misc</th>\n",
       "      <th>SF_POSS_PCT_Misc</th>\n",
       "      <th>PLUSONE_POSS_PCT_Misc</th>\n",
       "      <th>SCORE_POSS_PCT_Misc</th>\n",
       "      <th>EFG_PCT_Misc</th>\n",
       "    </tr>\n",
       "    <tr>\n",
       "      <th>Player</th>\n",
       "      <th></th>\n",
       "      <th></th>\n",
       "      <th></th>\n",
       "      <th></th>\n",
       "      <th></th>\n",
       "      <th></th>\n",
       "      <th></th>\n",
       "      <th></th>\n",
       "      <th></th>\n",
       "      <th></th>\n",
       "      <th></th>\n",
       "      <th></th>\n",
       "      <th></th>\n",
       "      <th></th>\n",
       "      <th></th>\n",
       "      <th></th>\n",
       "      <th></th>\n",
       "      <th></th>\n",
       "      <th></th>\n",
       "      <th></th>\n",
       "      <th></th>\n",
       "    </tr>\n",
       "  </thead>\n",
       "  <tbody>\n",
       "    <tr>\n",
       "      <th>2015_Kevin Garnett</th>\n",
       "      <td>NaN</td>\n",
       "      <td>NaN</td>\n",
       "      <td>NaN</td>\n",
       "      <td>NaN</td>\n",
       "      <td>NaN</td>\n",
       "      <td>NaN</td>\n",
       "      <td>NaN</td>\n",
       "      <td>NaN</td>\n",
       "      <td>NaN</td>\n",
       "      <td>0.093</td>\n",
       "      <td>...</td>\n",
       "      <td>NaN</td>\n",
       "      <td>0.121</td>\n",
       "      <td>0.235</td>\n",
       "      <td>0.000</td>\n",
       "      <td>0.176</td>\n",
       "      <td>0.824</td>\n",
       "      <td>0.000</td>\n",
       "      <td>0.00</td>\n",
       "      <td>0.176</td>\n",
       "      <td>0.000</td>\n",
       "    </tr>\n",
       "    <tr>\n",
       "      <th>2015_Kobe Bryant</th>\n",
       "      <td>0.199</td>\n",
       "      <td>0.712</td>\n",
       "      <td>0.260</td>\n",
       "      <td>0.120</td>\n",
       "      <td>0.037</td>\n",
       "      <td>0.116</td>\n",
       "      <td>0.007</td>\n",
       "      <td>0.333</td>\n",
       "      <td>0.289</td>\n",
       "      <td>0.096</td>\n",
       "      <td>...</td>\n",
       "      <td>0.604</td>\n",
       "      <td>0.044</td>\n",
       "      <td>0.525</td>\n",
       "      <td>0.095</td>\n",
       "      <td>0.237</td>\n",
       "      <td>0.407</td>\n",
       "      <td>0.051</td>\n",
       "      <td>0.00</td>\n",
       "      <td>0.254</td>\n",
       "      <td>0.119</td>\n",
       "    </tr>\n",
       "    <tr>\n",
       "      <th>2015_Tim Duncan</th>\n",
       "      <td>NaN</td>\n",
       "      <td>NaN</td>\n",
       "      <td>NaN</td>\n",
       "      <td>NaN</td>\n",
       "      <td>NaN</td>\n",
       "      <td>NaN</td>\n",
       "      <td>NaN</td>\n",
       "      <td>NaN</td>\n",
       "      <td>NaN</td>\n",
       "      <td>0.045</td>\n",
       "      <td>...</td>\n",
       "      <td>0.725</td>\n",
       "      <td>0.113</td>\n",
       "      <td>0.242</td>\n",
       "      <td>0.600</td>\n",
       "      <td>0.121</td>\n",
       "      <td>0.803</td>\n",
       "      <td>0.015</td>\n",
       "      <td>0.00</td>\n",
       "      <td>0.167</td>\n",
       "      <td>0.600</td>\n",
       "    </tr>\n",
       "    <tr>\n",
       "      <th>2015_Vince Carter</th>\n",
       "      <td>0.049</td>\n",
       "      <td>0.300</td>\n",
       "      <td>0.077</td>\n",
       "      <td>0.100</td>\n",
       "      <td>0.250</td>\n",
       "      <td>0.100</td>\n",
       "      <td>0.000</td>\n",
       "      <td>0.150</td>\n",
       "      <td>0.077</td>\n",
       "      <td>0.095</td>\n",
       "      <td>...</td>\n",
       "      <td>0.389</td>\n",
       "      <td>0.068</td>\n",
       "      <td>1.000</td>\n",
       "      <td>0.400</td>\n",
       "      <td>0.393</td>\n",
       "      <td>0.286</td>\n",
       "      <td>0.071</td>\n",
       "      <td>0.04</td>\n",
       "      <td>0.500</td>\n",
       "      <td>0.500</td>\n",
       "    </tr>\n",
       "    <tr>\n",
       "      <th>2015_Dirk Nowitzki</th>\n",
       "      <td>0.046</td>\n",
       "      <td>1.066</td>\n",
       "      <td>0.489</td>\n",
       "      <td>0.164</td>\n",
       "      <td>0.066</td>\n",
       "      <td>0.131</td>\n",
       "      <td>0.000</td>\n",
       "      <td>0.541</td>\n",
       "      <td>0.500</td>\n",
       "      <td>0.046</td>\n",
       "      <td>...</td>\n",
       "      <td>0.500</td>\n",
       "      <td>0.046</td>\n",
       "      <td>0.850</td>\n",
       "      <td>0.222</td>\n",
       "      <td>0.467</td>\n",
       "      <td>0.383</td>\n",
       "      <td>0.000</td>\n",
       "      <td>0.00</td>\n",
       "      <td>0.500</td>\n",
       "      <td>0.222</td>\n",
       "    </tr>\n",
       "    <tr>\n",
       "      <th>...</th>\n",
       "      <td>...</td>\n",
       "      <td>...</td>\n",
       "      <td>...</td>\n",
       "      <td>...</td>\n",
       "      <td>...</td>\n",
       "      <td>...</td>\n",
       "      <td>...</td>\n",
       "      <td>...</td>\n",
       "      <td>...</td>\n",
       "      <td>...</td>\n",
       "      <td>...</td>\n",
       "      <td>...</td>\n",
       "      <td>...</td>\n",
       "      <td>...</td>\n",
       "      <td>...</td>\n",
       "      <td>...</td>\n",
       "      <td>...</td>\n",
       "      <td>...</td>\n",
       "      <td>...</td>\n",
       "      <td>...</td>\n",
       "      <td>...</td>\n",
       "    </tr>\n",
       "    <tr>\n",
       "      <th>2024_AJ Johnson</th>\n",
       "      <td>NaN</td>\n",
       "      <td>NaN</td>\n",
       "      <td>NaN</td>\n",
       "      <td>NaN</td>\n",
       "      <td>NaN</td>\n",
       "      <td>NaN</td>\n",
       "      <td>NaN</td>\n",
       "      <td>NaN</td>\n",
       "      <td>NaN</td>\n",
       "      <td>0.282</td>\n",
       "      <td>...</td>\n",
       "      <td>NaN</td>\n",
       "      <td>NaN</td>\n",
       "      <td>NaN</td>\n",
       "      <td>NaN</td>\n",
       "      <td>NaN</td>\n",
       "      <td>NaN</td>\n",
       "      <td>NaN</td>\n",
       "      <td>NaN</td>\n",
       "      <td>NaN</td>\n",
       "      <td>NaN</td>\n",
       "    </tr>\n",
       "    <tr>\n",
       "      <th>2024_Quinten Post</th>\n",
       "      <td>NaN</td>\n",
       "      <td>NaN</td>\n",
       "      <td>NaN</td>\n",
       "      <td>NaN</td>\n",
       "      <td>NaN</td>\n",
       "      <td>NaN</td>\n",
       "      <td>NaN</td>\n",
       "      <td>NaN</td>\n",
       "      <td>NaN</td>\n",
       "      <td>0.148</td>\n",
       "      <td>...</td>\n",
       "      <td>0.429</td>\n",
       "      <td>0.070</td>\n",
       "      <td>0.000</td>\n",
       "      <td>0.000</td>\n",
       "      <td>0.056</td>\n",
       "      <td>0.889</td>\n",
       "      <td>0.000</td>\n",
       "      <td>0.00</td>\n",
       "      <td>0.000</td>\n",
       "      <td>0.000</td>\n",
       "    </tr>\n",
       "    <tr>\n",
       "      <th>2024_Jonathan Mogbo</th>\n",
       "      <td>0.031</td>\n",
       "      <td>1.000</td>\n",
       "      <td>0.500</td>\n",
       "      <td>0.200</td>\n",
       "      <td>0.100</td>\n",
       "      <td>0.200</td>\n",
       "      <td>0.100</td>\n",
       "      <td>0.500</td>\n",
       "      <td>0.500</td>\n",
       "      <td>0.249</td>\n",
       "      <td>...</td>\n",
       "      <td>0.357</td>\n",
       "      <td>0.078</td>\n",
       "      <td>0.400</td>\n",
       "      <td>0.375</td>\n",
       "      <td>0.080</td>\n",
       "      <td>0.600</td>\n",
       "      <td>0.000</td>\n",
       "      <td>0.00</td>\n",
       "      <td>0.200</td>\n",
       "      <td>0.375</td>\n",
       "    </tr>\n",
       "    <tr>\n",
       "      <th>2024_Jaylen Wells</th>\n",
       "      <td>0.059</td>\n",
       "      <td>0.814</td>\n",
       "      <td>0.395</td>\n",
       "      <td>0.047</td>\n",
       "      <td>0.093</td>\n",
       "      <td>0.047</td>\n",
       "      <td>0.023</td>\n",
       "      <td>0.372</td>\n",
       "      <td>0.421</td>\n",
       "      <td>0.244</td>\n",
       "      <td>...</td>\n",
       "      <td>0.545</td>\n",
       "      <td>0.045</td>\n",
       "      <td>0.788</td>\n",
       "      <td>0.333</td>\n",
       "      <td>0.333</td>\n",
       "      <td>0.303</td>\n",
       "      <td>0.091</td>\n",
       "      <td>0.00</td>\n",
       "      <td>0.455</td>\n",
       "      <td>0.375</td>\n",
       "    </tr>\n",
       "    <tr>\n",
       "      <th>2024_Jamison Battle</th>\n",
       "      <td>NaN</td>\n",
       "      <td>NaN</td>\n",
       "      <td>NaN</td>\n",
       "      <td>NaN</td>\n",
       "      <td>NaN</td>\n",
       "      <td>NaN</td>\n",
       "      <td>NaN</td>\n",
       "      <td>NaN</td>\n",
       "      <td>NaN</td>\n",
       "      <td>0.189</td>\n",
       "      <td>...</td>\n",
       "      <td>0.563</td>\n",
       "      <td>NaN</td>\n",
       "      <td>NaN</td>\n",
       "      <td>NaN</td>\n",
       "      <td>NaN</td>\n",
       "      <td>NaN</td>\n",
       "      <td>NaN</td>\n",
       "      <td>NaN</td>\n",
       "      <td>NaN</td>\n",
       "      <td>NaN</td>\n",
       "    </tr>\n",
       "  </tbody>\n",
       "</table>\n",
       "<p>4703 rows × 99 columns</p>\n",
       "</div>"
      ],
      "text/plain": [
       "                     POSS_PCT_Isolation  PPP_Isolation  FG_PCT_Isolation  \\\n",
       "Player                                                                     \n",
       "2015_Kevin Garnett                  NaN            NaN               NaN   \n",
       "2015_Kobe Bryant                  0.199          0.712             0.260   \n",
       "2015_Tim Duncan                     NaN            NaN               NaN   \n",
       "2015_Vince Carter                 0.049          0.300             0.077   \n",
       "2015_Dirk Nowitzki                0.046          1.066             0.489   \n",
       "...                                 ...            ...               ...   \n",
       "2024_AJ Johnson                     NaN            NaN               NaN   \n",
       "2024_Quinten Post                   NaN            NaN               NaN   \n",
       "2024_Jonathan Mogbo               0.031          1.000             0.500   \n",
       "2024_Jaylen Wells                 0.059          0.814             0.395   \n",
       "2024_Jamison Battle                 NaN            NaN               NaN   \n",
       "\n",
       "                     FT_POSS_PCT_Isolation  TOV_POSS_PCT_Isolation  \\\n",
       "Player                                                               \n",
       "2015_Kevin Garnett                     NaN                     NaN   \n",
       "2015_Kobe Bryant                     0.120                   0.037   \n",
       "2015_Tim Duncan                        NaN                     NaN   \n",
       "2015_Vince Carter                    0.100                   0.250   \n",
       "2015_Dirk Nowitzki                   0.164                   0.066   \n",
       "...                                    ...                     ...   \n",
       "2024_AJ Johnson                        NaN                     NaN   \n",
       "2024_Quinten Post                      NaN                     NaN   \n",
       "2024_Jonathan Mogbo                  0.200                   0.100   \n",
       "2024_Jaylen Wells                    0.047                   0.093   \n",
       "2024_Jamison Battle                    NaN                     NaN   \n",
       "\n",
       "                     SF_POSS_PCT_Isolation  PLUSONE_POSS_PCT_Isolation  \\\n",
       "Player                                                                   \n",
       "2015_Kevin Garnett                     NaN                         NaN   \n",
       "2015_Kobe Bryant                     0.116                       0.007   \n",
       "2015_Tim Duncan                        NaN                         NaN   \n",
       "2015_Vince Carter                    0.100                       0.000   \n",
       "2015_Dirk Nowitzki                   0.131                       0.000   \n",
       "...                                    ...                         ...   \n",
       "2024_AJ Johnson                        NaN                         NaN   \n",
       "2024_Quinten Post                      NaN                         NaN   \n",
       "2024_Jonathan Mogbo                  0.200                       0.100   \n",
       "2024_Jaylen Wells                    0.047                       0.023   \n",
       "2024_Jamison Battle                    NaN                         NaN   \n",
       "\n",
       "                     SCORE_POSS_PCT_Isolation  EFG_PCT_Isolation  \\\n",
       "Player                                                             \n",
       "2015_Kevin Garnett                        NaN                NaN   \n",
       "2015_Kobe Bryant                        0.333              0.289   \n",
       "2015_Tim Duncan                           NaN                NaN   \n",
       "2015_Vince Carter                       0.150              0.077   \n",
       "2015_Dirk Nowitzki                      0.541              0.500   \n",
       "...                                       ...                ...   \n",
       "2024_AJ Johnson                           NaN                NaN   \n",
       "2024_Quinten Post                         NaN                NaN   \n",
       "2024_Jonathan Mogbo                     0.500              0.500   \n",
       "2024_Jaylen Wells                       0.372              0.421   \n",
       "2024_Jamison Battle                       NaN                NaN   \n",
       "\n",
       "                     POSS_PCT_Transition  ...  EFG_PCT_OffRebound  \\\n",
       "Player                                    ...                       \n",
       "2015_Kevin Garnett                 0.093  ...                 NaN   \n",
       "2015_Kobe Bryant                   0.096  ...               0.604   \n",
       "2015_Tim Duncan                    0.045  ...               0.725   \n",
       "2015_Vince Carter                  0.095  ...               0.389   \n",
       "2015_Dirk Nowitzki                 0.046  ...               0.500   \n",
       "...                                  ...  ...                 ...   \n",
       "2024_AJ Johnson                    0.282  ...                 NaN   \n",
       "2024_Quinten Post                  0.148  ...               0.429   \n",
       "2024_Jonathan Mogbo                0.249  ...               0.357   \n",
       "2024_Jaylen Wells                  0.244  ...               0.545   \n",
       "2024_Jamison Battle                0.189  ...               0.563   \n",
       "\n",
       "                     POSS_PCT_Misc  PPP_Misc  FG_PCT_Misc  FT_POSS_PCT_Misc  \\\n",
       "Player                                                                        \n",
       "2015_Kevin Garnett           0.121     0.235        0.000             0.176   \n",
       "2015_Kobe Bryant             0.044     0.525        0.095             0.237   \n",
       "2015_Tim Duncan              0.113     0.242        0.600             0.121   \n",
       "2015_Vince Carter            0.068     1.000        0.400             0.393   \n",
       "2015_Dirk Nowitzki           0.046     0.850        0.222             0.467   \n",
       "...                            ...       ...          ...               ...   \n",
       "2024_AJ Johnson                NaN       NaN          NaN               NaN   \n",
       "2024_Quinten Post            0.070     0.000        0.000             0.056   \n",
       "2024_Jonathan Mogbo          0.078     0.400        0.375             0.080   \n",
       "2024_Jaylen Wells            0.045     0.788        0.333             0.333   \n",
       "2024_Jamison Battle            NaN       NaN          NaN               NaN   \n",
       "\n",
       "                     TOV_POSS_PCT_Misc  SF_POSS_PCT_Misc  \\\n",
       "Player                                                     \n",
       "2015_Kevin Garnett               0.824             0.000   \n",
       "2015_Kobe Bryant                 0.407             0.051   \n",
       "2015_Tim Duncan                  0.803             0.015   \n",
       "2015_Vince Carter                0.286             0.071   \n",
       "2015_Dirk Nowitzki               0.383             0.000   \n",
       "...                                ...               ...   \n",
       "2024_AJ Johnson                    NaN               NaN   \n",
       "2024_Quinten Post                0.889             0.000   \n",
       "2024_Jonathan Mogbo              0.600             0.000   \n",
       "2024_Jaylen Wells                0.303             0.091   \n",
       "2024_Jamison Battle                NaN               NaN   \n",
       "\n",
       "                     PLUSONE_POSS_PCT_Misc  SCORE_POSS_PCT_Misc  EFG_PCT_Misc  \n",
       "Player                                                                         \n",
       "2015_Kevin Garnett                    0.00                0.176         0.000  \n",
       "2015_Kobe Bryant                      0.00                0.254         0.119  \n",
       "2015_Tim Duncan                       0.00                0.167         0.600  \n",
       "2015_Vince Carter                     0.04                0.500         0.500  \n",
       "2015_Dirk Nowitzki                    0.00                0.500         0.222  \n",
       "...                                    ...                  ...           ...  \n",
       "2024_AJ Johnson                        NaN                  NaN           NaN  \n",
       "2024_Quinten Post                     0.00                0.000         0.000  \n",
       "2024_Jonathan Mogbo                   0.00                0.200         0.375  \n",
       "2024_Jaylen Wells                     0.00                0.455         0.375  \n",
       "2024_Jamison Battle                    NaN                  NaN           NaN  \n",
       "\n",
       "[4703 rows x 99 columns]"
      ]
     },
     "execution_count": 3,
     "metadata": {},
     "output_type": "execute_result"
    }
   ],
   "source": [
    "# Dropping columns that will not be used in the analysis\n",
    "columns_to_drop = [\n",
    "    'PLAYER_ID', \n",
    "     'TYPE_GROUPING',\n",
    "     'SEASON_ID',\n",
    "     'PLAYER_NAME'\n",
    "]\n",
    "\n",
    "# Drop columns with 'team' in the name\n",
    "columns_to_drop += [col for col in df.columns if 'team' in col.lower()]\n",
    "\n",
    "# Drop columns starting with FGA, FGMX, FGM, and POSS but keep those that have _PCT followed by other text\n",
    "columns_to_drop += [col for col in df.columns if (col.startswith(('FGA', 'FGMX', 'FGM', 'POSS')) and not '_PCT' in col)]\n",
    "\n",
    "# Drop columns with PERCENTILE\n",
    "columns_to_drop += [col for col in df.columns if 'PERCENTILE' in col]\n",
    "\n",
    "# Drop columns starting with PTS\n",
    "columns_to_drop += [col for col in df.columns if col.startswith('PTS')]\n",
    "\n",
    "# Drop columns starting with GP\n",
    "columns_to_drop += [col for col in df.columns if col.startswith('GP')]\n",
    "\n",
    "df['Player'] = df['SEASON_ID'].astype(str).str[-4:] + '_' + df['PLAYER_NAME']\n",
    "\n",
    "df.drop(columns=columns_to_drop, inplace=True)\n",
    "\n",
    "df.set_index('Player', inplace=True)\n",
    "# Display the updated DataFrame\n",
    "df"
   ]
  },
  {
   "cell_type": "code",
   "execution_count": 4,
   "metadata": {},
   "outputs": [
    {
     "name": "stdout",
     "output_type": "stream",
     "text": [
      "Found 420 players with multiple entries\n"
     ]
    }
   ],
   "source": [
    "duplicated_mask = df.index.duplicated(keep=False)\n",
    "duplicate_players = df.index[duplicated_mask].unique()\n",
    "# Create a copy of the original DataFrame to work with\n",
    "df_combined = df.copy()\n",
    "\n",
    "# For each player with multiple entries, replace with their average stats\n",
    "for player in duplicate_players:\n",
    "    # Get all rows for this player\n",
    "    player_rows = df.loc[player]\n",
    "    \n",
    "    # Calculate mean for all stats\n",
    "    player_mean = player_rows.mean()\n",
    "    \n",
    "    # Remove all duplicate rows\n",
    "    df_combined = df_combined.drop(index=player)\n",
    "    \n",
    "    # Add back the averaged row\n",
    "    player_mean.name = player\n",
    "    df_combined = pd.concat([df_combined, pd.DataFrame(player_mean).T])"
   ]
  },
  {
   "cell_type": "code",
   "execution_count": 5,
   "metadata": {},
   "outputs": [],
   "source": [
    "def cosine_similarity(A, B):\n",
    "    \"\"\"\n",
    "    Compute cosine similarity between A (target) and B (others).\n",
    "    \"\"\"\n",
    "    # Convert to numpy arrays if they aren't already\n",
    "    A = np.asarray(A)\n",
    "    B = np.asarray(B)\n",
    "    \n",
    "    # Compute norms of the matrices\n",
    "    A_norm = np.sqrt(np.sum(A**2, axis=1))\n",
    "    B_norm = np.sqrt(np.sum(B**2, axis=1))\n",
    "    \n",
    "    # Handle zero vectors to avoid division by zero\n",
    "    # Replace zero norms with 1\n",
    "    A_norm[A_norm == 0] = 1\n",
    "    B_norm[B_norm == 0] = 1\n",
    "    \n",
    "    # Compute dot product\n",
    "    dot_product = np.dot(A, B.T)\n",
    "    \n",
    "    # Reshape\n",
    "    A_norm = A_norm.reshape(-1, 1)\n",
    "    B_norm = B_norm.reshape(1, -1)\n",
    "    \n",
    "    # Compute similarity\n",
    "    similarity = dot_product / (A_norm * B_norm)\n",
    "    \n",
    "    return similarity"
   ]
  },
  {
   "cell_type": "code",
   "execution_count": 6,
   "metadata": {},
   "outputs": [],
   "source": [
    "def MinMaxScaler(vector):\n",
    "    \"\"\"\n",
    "    Apply min-max scaling to a vector, transforming values to range [0, 1].\n",
    "    \"\"\"\n",
    "    # Convert to numpy array if it's not already\n",
    "    vector = np.asarray(vector)\n",
    "    \n",
    "    # Get min and max values\n",
    "    min_val = np.min(vector)\n",
    "    max_val = np.max(vector)\n",
    "    \n",
    "    # Handle the case where min == max (constant vector)\n",
    "    if min_val == max_val:\n",
    "        return np.zeros_like(vector)\n",
    "    \n",
    "    # Apply min-max scaling\n",
    "    scaled_vector = (vector - min_val) / (max_val - min_val)\n",
    "    \n",
    "    return scaled_vector"
   ]
  },
  {
   "cell_type": "code",
   "execution_count": 105,
   "metadata": {},
   "outputs": [],
   "source": [
    "def collab_filter(df, target_user, k):\n",
    "\n",
    "  # Check if the target player is in the DataFrame\n",
    "  if target_user not in df.index:\n",
    "    print(f\"Error: {target_user} not found in the dataset.\")\n",
    "    return None\n",
    "\n",
    "  \n",
    "  # Centering the data around the mean for each player\n",
    "  player_means = df.mean(axis=1)\n",
    "  df_scaled = df.sub(player_means, axis=0).fillna(0)\n",
    "  \n",
    "  # Separating the target player from the rest\n",
    "  target_stats = df_scaled.loc[target_user].values.reshape(1,-1)\n",
    "  # Extract the player name (everything after the first underscore)\n",
    "  player_name = target_user.split('_', 1)[1]\n",
    "\n",
    "  # Create a mask to find all rows where this player appears\n",
    "  player_mask = ~df_scaled.index.str.contains(f\"_{player_name}$\")\n",
    "\n",
    "  # Filter the dataframe to exclude all seasons of the target player\n",
    "  other_player_stats = df_scaled[player_mask]\n",
    "  \n",
    "  # Calculate cosine similarity\n",
    "  similarity_scores = cosine_similarity(target_stats, other_player_stats)[0]\n",
    "\n",
    "  # Minmax scaling the similarity scores\n",
    "  similarity_scores = MinMaxScaler(similarity_scores.reshape(-1,1))\n",
    "  similarity_scores = similarity_scores.flatten()\n",
    "\n",
    "  filtered_indices = df.index[player_mask]\n",
    "  target_user_sim_scores = pd.Series(similarity_scores, index=filtered_indices)\n",
    "\n",
    "  # Getting the top k most similar players and their stats\n",
    "  top_k_sim_players = target_user_sim_scores.nlargest(k)\n",
    "\n",
    "  # Finding which stats the target player is missing\n",
    "  unscored = df.loc[target_user][df.loc[target_user].isna()].index\n",
    "\n",
    "\n",
    "  predictions = []\n",
    "  for stat in unscored:\n",
    "      # Extract the stat type (everything before the last underscore)\n",
    "      stat_parts = stat.split('_')\n",
    "      \n",
    "      if len(stat_parts) > 2:\n",
    "          stat_type = '_'.join(stat_parts[:-1])\n",
    "      else:\n",
    "          stat_type = stat_parts[0] \n",
    "      \n",
    "      # Find all columns with the same stat type but different play styles\n",
    "      related_cols = [col for col in df.columns if col.startswith(stat_type + '_') and col != stat]\n",
    "      \n",
    "      # Finding the stats of the top k similar players for the missing stat\n",
    "      relevant_stats = df.loc[top_k_sim_players.index, stat]\n",
    "\n",
    "      \n",
    "      # For players with missing values, fill with mean of related stats for that player\n",
    "      for player in top_k_sim_players.index:\n",
    "\n",
    "          if pd.isna(relevant_stats[player]):\n",
    "              # Get this player's values for related stats\n",
    "              player_related_values = df.loc[player, related_cols]\n",
    "              \n",
    "              # Calculate mean of non-NaN values\n",
    "              player_related_mean = player_related_values.mean(skipna=True)\n",
    "              \n",
    "              # If we have a valid mean, use it; otherwise keep as NaN\n",
    "              if not pd.isna(player_related_mean):\n",
    "                  relevant_stats[player] = player_related_mean\n",
    "      \n",
    "      # If we still have NaNs after trying to fill with related stats, use global mean\n",
    "      if relevant_stats.isna().any():\n",
    "          # Get global mean for this stat from players who have it\n",
    "          global_stat_mean = df[stat].mean(skipna=True)\n",
    "          relevant_stats = relevant_stats.fillna(global_stat_mean)\n",
    "      \n",
    "      # Calculating the predicted stat for the missing stat\n",
    "      prediction = round(np.sum(relevant_stats * top_k_sim_players)/np.sum(top_k_sim_players), 2)\n",
    "      predictions.append((stat, prediction))\n",
    "  \n",
    "  return predictions, top_k_sim_players"
   ]
  },
  {
   "cell_type": "code",
   "execution_count": 106,
   "metadata": {},
   "outputs": [
    {
     "name": "stdout",
     "output_type": "stream",
     "text": [
      "[('POSS_PCT_Transition', 0.13), ('PPP_Transition', 1.12), ('FG_PCT_Transition', 0.51), ('FT_POSS_PCT_Transition', 0.13), ('TOV_POSS_PCT_Transition', 0.11), ('SF_POSS_PCT_Transition', 0.11), ('PLUSONE_POSS_PCT_Transition', 0.02), ('SCORE_POSS_PCT_Transition', 0.5), ('EFG_PCT_Transition', 0.6), ('POSS_PCT_Cut', 0.09), ('PPP_Cut', 1.06), ('FG_PCT_Cut', 0.5), ('FT_POSS_PCT_Cut', 0.11), ('TOV_POSS_PCT_Cut', 0.1), ('SF_POSS_PCT_Cut', 0.1), ('PLUSONE_POSS_PCT_Cut', 0.03), ('SCORE_POSS_PCT_Cut', 0.48), ('EFG_PCT_Cut', 0.56), ('POSS_PCT_Misc', 0.07), ('PPP_Misc', 0.82), ('FG_PCT_Misc', 0.55), ('FT_POSS_PCT_Misc', 0.17), ('TOV_POSS_PCT_Misc', 0.33), ('SF_POSS_PCT_Misc', 0.06), ('PLUSONE_POSS_PCT_Misc', 0.01), ('SCORE_POSS_PCT_Misc', 0.41), ('EFG_PCT_Misc', 0.58)]\n",
      "Index(['2023_Paul George', '2023_Jayson Tatum', '2023_Kyle Kuzma',\n",
      "       '2024_Kevin Durant', '2024_Harrison Barnes'],\n",
      "      dtype='object')\n"
     ]
    }
   ],
   "source": [
    "predictions, top_k_sim_players = collab_filter(df_combined, '2024_Devin Booker', 5)\n",
    "print(predictions)\n",
    "print(top_k_sim_players.index)"
   ]
  },
  {
   "cell_type": "code",
   "execution_count": 107,
   "metadata": {},
   "outputs": [],
   "source": [
    "def display_predicted_stats(player_name, predicted_stats, df):\n",
    "    \"\"\"\n",
    "    Display predicted stats with rankings compared to other players from the same year.\n",
    "    \"\"\"\n",
    "    # If no missing stats, return\n",
    "    if not predicted_stats:\n",
    "        return\n",
    "    \n",
    "    # Extract year from player name\n",
    "    year = player_name.split('_')[0]\n",
    "    \n",
    "    # Extract player name\n",
    "    name = player_name.replace('_', ' ')\n",
    "    \n",
    "    # Group stats by playstyle\n",
    "    playstyle_stats = {}\n",
    "    for stat_name, predicted_value in predicted_stats:\n",
    "        playstyle = stat_name.split('_')[-1]\n",
    "        if playstyle not in playstyle_stats:\n",
    "            playstyle_stats[playstyle] = []\n",
    "        playstyle_stats[playstyle].append((stat_name, predicted_value))\n",
    "    \n",
    "    # Display stats for each playstyle\n",
    "    for playstyle, stats in playstyle_stats.items():\n",
    "        print(f\"\\nIf {name} played with a {playstyle} playstyle, their stats would be:\")\n",
    "        \n",
    "        # For each stat, find its ranking among players from the same year with same playstyle\n",
    "        for stat_name, predicted_value in stats:\n",
    "            # Extract base stat name without playstyle\n",
    "            base_stat_name = '_'.join(stat_name.split('_')[:-1])\n",
    "            \n",
    "            # Get all values for this specific stat+playstyle from players in the same year\n",
    "            year_mask = df.index.str.startswith(year)\n",
    "            playstyle_values = df.loc[year_mask, stat_name].dropna().sort_values(ascending=False)\n",
    "            \n",
    "            # If there are no values for comparison, skip ranking\n",
    "            if len(playstyle_values) == 0:\n",
    "                formatted_value = f\"{predicted_value:.3f}\" if 'PCT' in stat_name else f\"{predicted_value:.2f}\"\n",
    "                print(f\"  {base_stat_name}: {formatted_value} (no other players for comparison)\")\n",
    "                continue\n",
    "                \n",
    "            # Calculate rank (add the predicted value and find its position)\n",
    "\n",
    "            combined_values = pd.concat([playstyle_values, pd.Series([predicted_value], index=['predicted'])])\n",
    "\n",
    "            combined_values = combined_values.sort_values(ascending=False)\n",
    "            rank = combined_values.index.get_loc('predicted') + 1\n",
    "            \n",
    "            # Format value based on stat type\n",
    "            if 'PCT' in stat_name:\n",
    "                formatted_value = f\"{predicted_value:.3f}\"\n",
    "            else:\n",
    "                formatted_value = f\"{predicted_value:.2f}\"\n",
    "                \n",
    "            # Get ordinal suffix\n",
    "            if rank % 10 == 1 and rank != 11:\n",
    "                suffix = 'st'\n",
    "            elif rank % 10 == 2 and rank != 12:\n",
    "                suffix = 'nd'\n",
    "            elif rank % 10 == 3 and rank != 13:\n",
    "                suffix = 'rd'\n",
    "            else:\n",
    "                suffix = 'th'\n",
    "                \n",
    "            # Print stat with ranking\n",
    "            print(f\"  {base_stat_name}: {formatted_value} ({rank}{suffix} out of {len(playstyle_values) + 1})\")"
   ]
  },
  {
   "cell_type": "code",
   "execution_count": 108,
   "metadata": {},
   "outputs": [
    {
     "name": "stdout",
     "output_type": "stream",
     "text": [
      "\n",
      "If 2023 Devin Booker played with a Transition playstyle, their stats would be:\n",
      "  POSS_PCT: 0.130 (267th out of 342)\n",
      "  PPP: 1.12 (184th out of 342)\n",
      "  FG_PCT: 0.510 (196th out of 342)\n",
      "  FT_POSS_PCT: 0.130 (140th out of 342)\n",
      "  TOV_POSS_PCT: 0.110 (164th out of 342)\n",
      "  SF_POSS_PCT: 0.110 (164th out of 342)\n",
      "  PLUSONE_POSS_PCT: 0.020 (187th out of 342)\n",
      "  SCORE_POSS_PCT: 0.500 (179th out of 342)\n",
      "  EFG_PCT: 0.600 (179th out of 342)\n",
      "\n",
      "If 2023 Devin Booker played with a Cut playstyle, their stats would be:\n",
      "  POSS_PCT: 0.090 (108th out of 282)\n",
      "  PPP: 1.06 (250th out of 282)\n",
      "  FG_PCT: 0.500 (265th out of 282)\n",
      "  FT_POSS_PCT: 0.110 (181st out of 282)\n",
      "  TOV_POSS_PCT: 0.100 (39th out of 282)\n",
      "  SF_POSS_PCT: 0.100 (190th out of 282)\n",
      "  PLUSONE_POSS_PCT: 0.030 (150th out of 282)\n",
      "  SCORE_POSS_PCT: 0.480 (267th out of 282)\n",
      "  EFG_PCT: 0.560 (235th out of 282)\n",
      "\n",
      "If 2023 Devin Booker played with a Misc playstyle, their stats would be:\n",
      "  POSS_PCT: 0.070 (82nd out of 308)\n",
      "  PPP: 0.82 (31st out of 308)\n",
      "  FG_PCT: 0.550 (77th out of 308)\n",
      "  FT_POSS_PCT: 0.170 (170th out of 308)\n",
      "  TOV_POSS_PCT: 0.330 (290th out of 308)\n",
      "  SF_POSS_PCT: 0.060 (53rd out of 308)\n",
      "  PLUSONE_POSS_PCT: 0.010 (59th out of 308)\n",
      "  SCORE_POSS_PCT: 0.410 (39th out of 308)\n",
      "  EFG_PCT: 0.580 (90th out of 308)\n"
     ]
    }
   ],
   "source": [
    "display_predicted_stats('2023_Devin Booker', predictions, df_combined)"
   ]
  },
  {
   "cell_type": "code",
   "execution_count": 62,
   "metadata": {},
   "outputs": [],
   "source": [
    "def create_player_comparison_radar(target_player, similar_players, df, k=5):\n",
    "    \"\"\"\n",
    "    Create a radar chart comparing a target player with similar players using average stats across all play types.\n",
    "    \"\"\"\n",
    "    # Extract player names for the legend\n",
    "    target_name = target_player.replace('_', ' ')\n",
    "    \n",
    "    # Limit to top k similar players\n",
    "    top_k_similar = similar_players.head(k)\n",
    "    \n",
    "    # Define the playstyles and stat types\n",
    "    playstyles = ['Isolation', 'Transition', 'PRBallHandler', 'PRRollman', \n",
    "                  'Postup', 'Spotup', 'Handoff', 'Cut', 'OffScreen', 'OffRebound']\n",
    "    key_stat_types = ['PPP', 'EFG_PCT', 'FG_PCT', 'SCORE_POSS_PCT', 'TOV_POSS_PCT', 'FT_POSS_PCT', 'SF_POSS_PCT', 'PLUSONE_POSS_PCT']\n",
    "    \n",
    "    # Function to find a player's dominant playstyle\n",
    "    def get_dominant_playstyle(player_id):\n",
    "        poss_pcts = {}\n",
    "        for style in playstyles:\n",
    "            col = f'POSS_PCT_{style}'\n",
    "            if col in df.columns and not pd.isna(df.loc[player_id, col]):\n",
    "                poss_pcts[style] = df.loc[player_id, col]\n",
    "        \n",
    "        if poss_pcts:\n",
    "            return max(poss_pcts.items(), key=lambda x: x[1])[0]\n",
    "        return \"Unknown\"\n",
    "    \n",
    "    # Get target player's dominant playstyle\n",
    "    target_dominant_style = get_dominant_playstyle(target_player)\n",
    "    \n",
    "    # Calculate average stats across all playstyles for each stat type\n",
    "    avg_stats = {}\n",
    "    for stat_type in key_stat_types:\n",
    "        # Get columns for this stat type across all playstyles\n",
    "        stat_cols = [f\"{stat_type}_{style}\" for style in playstyles if f\"{stat_type}_{style}\" in df.columns]\n",
    "        \n",
    "        if not stat_cols:\n",
    "            continue\n",
    "            \n",
    "        # Calculate average for target player and each similar player\n",
    "        avg_stats[stat_type] = {}\n",
    "        \n",
    "        # For target player\n",
    "        target_values = df.loc[target_player, stat_cols].dropna()\n",
    "        if len(target_values) > 0:\n",
    "            avg_stats[stat_type][target_player] = target_values.mean()\n",
    "        else:\n",
    "            avg_stats[stat_type][target_player] = 0\n",
    "            \n",
    "        # For similar players\n",
    "        for player in top_k_similar.index:\n",
    "            player_values = df.loc[player, stat_cols].dropna()\n",
    "            if len(player_values) > 0:\n",
    "                avg_stats[stat_type][player] = player_values.mean()\n",
    "            else:\n",
    "                avg_stats[stat_type][player] = 0\n",
    "    \n",
    "    # Get the list of stats that have data\n",
    "    valid_stats = list(avg_stats.keys())[:len(key_stat_types)]\n",
    "    \n",
    "    if len(valid_stats) == 0:\n",
    "        print(\"No valid stats found across playstyles.\")\n",
    "        return None\n",
    "    \n",
    "    # Create readable labels for the chart\n",
    "    stat_labels = [stat.replace('PCT', '%') for stat in valid_stats]\n",
    "    \n",
    "    # Collect all values for normalization\n",
    "    all_values = {}\n",
    "    for stat in valid_stats:\n",
    "        all_values[stat] = []\n",
    "        for player in [target_player] + list(top_k_similar.index):\n",
    "            if player in avg_stats[stat]:\n",
    "                all_values[stat].append(avg_stats[stat][player])\n",
    "    \n",
    "    # Initialize the plot\n",
    "    fig = go.Figure()\n",
    "    \n",
    "    # Add the target player\n",
    "    target_stats = [avg_stats[stat][target_player] for stat in valid_stats]\n",
    "    \n",
    "    \n",
    "    # Add trace for target player with dominant playstyle in label\n",
    "    fig.add_trace(go.Scatterpolar(\n",
    "        r=target_stats,\n",
    "        theta=stat_labels,\n",
    "        fill='toself',\n",
    "        name=f\"{target_name} ({target_dominant_style})\",\n",
    "        hovertemplate='%{theta}: %{customdata:.3f}<extra></extra>',\n",
    "        customdata=target_stats\n",
    "    ))\n",
    "    \n",
    "    # Add similar players\n",
    "    for i, player in enumerate(top_k_similar.index, 1):\n",
    "        # Get player's dominant playstyle\n",
    "        player_dominant_style = get_dominant_playstyle(player)\n",
    "        \n",
    "        player_name = player.replace('_', ' ')\n",
    "        player_stats = [avg_stats[stat][player] for stat in valid_stats]\n",
    "        \n",
    "        \n",
    "        # Add trace for similar player with dominant playstyle in label\n",
    "        fig.add_trace(go.Scatterpolar(\n",
    "            r=player_stats,\n",
    "            theta=stat_labels,\n",
    "            fill='toself',\n",
    "            name=f\"{player_name} ({player_dominant_style}, Sim: {top_k_similar[player]:.2f})\",\n",
    "            hovertemplate='%{theta}: %{customdata:.3f}<extra></extra>',\n",
    "            customdata=player_stats\n",
    "        ))\n",
    "    \n",
    "    # Update layout\n",
    "    fig.update_layout(\n",
    "        polar=dict(\n",
    "            radialaxis=dict(\n",
    "                visible=True,\n",
    "                range=[0, 1],\n",
    "                showticklabels=False\n",
    "            )\n",
    "        ),\n",
    "        title=dict(\n",
    "            text=f\"<b>{target_name} vs {k} Most Similar Players</b><br><sup>Average Across All Playstyles</sup>\",\n",
    "            x=0.5,\n",
    "            font=dict(size=18)\n",
    "        ),\n",
    "        legend=dict(\n",
    "            orientation=\"h\",  \n",
    "            yanchor=\"top\",    \n",
    "            y=-0.15,          \n",
    "            xanchor=\"center\", \n",
    "            x=0.5,            \n",
    "            font=dict(size=10), \n",
    "            itemwidth=30      \n",
    "        ),\n",
    "        margin=dict(l=80, r=80, t=100, b=150), \n",
    "        height=800,          \n",
    "        width=800\n",
    "    )\n",
    "    \n",
    "    return fig"
   ]
  },
  {
   "cell_type": "code",
   "execution_count": 44,
   "metadata": {},
   "outputs": [],
   "source": [
    "fig = create_player_comparison_radar('2023_Zach LaVine', top_k_sim_players, df_combined)"
   ]
  },
  {
   "cell_type": "code",
   "execution_count": 45,
   "metadata": {},
   "outputs": [
    {
     "data": {
      "application/vnd.plotly.v1+json": {
       "config": {
        "plotlyServerURL": "https://plot.ly"
       },
       "data": [
        {
         "customdata": [
          0.9950000000000001,
          0.5278333333333333,
          0.437,
          0.4183333333333334,
          0.11033333333333334,
          0.0845,
          0.07916666666666668,
          0.028
         ],
         "fill": "toself",
         "hovertemplate": "%{theta}: %{customdata:.3f}<extra></extra>",
         "name": "2023 Zach LaVine (PRBallHandler)",
         "r": [
          0.9950000000000001,
          0.5278333333333333,
          0.437,
          0.4183333333333334,
          0.11033333333333334,
          0.0845,
          0.07916666666666668,
          0.028
         ],
         "theta": [
          "PPP",
          "EFG_%",
          "FG_%",
          "SCORE_POSS_%",
          "TOV_POSS_%",
          "FT_POSS_%",
          "SF_POSS_%",
          "PLUSONE_POSS_%"
         ],
         "type": "scatterpolar"
        },
        {
         "customdata": [
          0.9535,
          0.5143333333333333,
          0.42783333333333334,
          0.3988333333333334,
          0.11833333333333333,
          0.06,
          0.04983333333333334,
          0.016833333333333332
         ],
         "fill": "toself",
         "hovertemplate": "%{theta}: %{customdata:.3f}<extra></extra>",
         "name": "2017 Fred VanVleet (PRBallHandler, Sim: 1.00)",
         "r": [
          0.9535,
          0.5143333333333333,
          0.42783333333333334,
          0.3988333333333334,
          0.11833333333333333,
          0.06,
          0.04983333333333334,
          0.016833333333333332
         ],
         "theta": [
          "PPP",
          "EFG_%",
          "FG_%",
          "SCORE_POSS_%",
          "TOV_POSS_%",
          "FT_POSS_%",
          "SF_POSS_%",
          "PLUSONE_POSS_%"
         ],
         "type": "scatterpolar"
        },
        {
         "customdata": [
          0.8911666666666666,
          0.4678333333333334,
          0.38733333333333336,
          0.37166666666666665,
          0.09816666666666667,
          0.06,
          0.05716666666666667,
          0.0205
         ],
         "fill": "toself",
         "hovertemplate": "%{theta}: %{customdata:.3f}<extra></extra>",
         "name": "2019 Coby White (PRBallHandler, Sim: 1.00)",
         "r": [
          0.8911666666666666,
          0.4678333333333334,
          0.38733333333333336,
          0.37166666666666665,
          0.09816666666666667,
          0.06,
          0.05716666666666667,
          0.0205
         ],
         "theta": [
          "PPP",
          "EFG_%",
          "FG_%",
          "SCORE_POSS_%",
          "TOV_POSS_%",
          "FT_POSS_%",
          "SF_POSS_%",
          "PLUSONE_POSS_%"
         ],
         "type": "scatterpolar"
        },
        {
         "customdata": [
          0.9336666666666665,
          0.4841666666666667,
          0.4355,
          0.41999999999999993,
          0.08433333333333333,
          0.059,
          0.050166666666666665,
          0.016666666666666666
         ],
         "fill": "toself",
         "hovertemplate": "%{theta}: %{customdata:.3f}<extra></extra>",
         "name": "2016 Leandro Barbosa (PRBallHandler, Sim: 0.99)",
         "r": [
          0.9336666666666665,
          0.4841666666666667,
          0.4355,
          0.41999999999999993,
          0.08433333333333333,
          0.059,
          0.050166666666666665,
          0.016666666666666666
         ],
         "theta": [
          "PPP",
          "EFG_%",
          "FG_%",
          "SCORE_POSS_%",
          "TOV_POSS_%",
          "FT_POSS_%",
          "SF_POSS_%",
          "PLUSONE_POSS_%"
         ],
         "type": "scatterpolar"
        },
        {
         "customdata": [
          1.1104999999999998,
          0.5833333333333334,
          0.4766666666666666,
          0.45616666666666666,
          0.08083333333333334,
          0.04433333333333333,
          0.04083333333333333,
          0.010666666666666666
         ],
         "fill": "toself",
         "hovertemplate": "%{theta}: %{customdata:.3f}<extra></extra>",
         "name": "2019 Seth Curry (Spotup, Sim: 0.99)",
         "r": [
          1.1104999999999998,
          0.5833333333333334,
          0.4766666666666666,
          0.45616666666666666,
          0.08083333333333334,
          0.04433333333333333,
          0.04083333333333333,
          0.010666666666666666
         ],
         "theta": [
          "PPP",
          "EFG_%",
          "FG_%",
          "SCORE_POSS_%",
          "TOV_POSS_%",
          "FT_POSS_%",
          "SF_POSS_%",
          "PLUSONE_POSS_%"
         ],
         "type": "scatterpolar"
        },
        {
         "customdata": [
          1.0005,
          0.5108333333333334,
          0.39349999999999996,
          0.3961666666666667,
          0.08833333333333333,
          0.07633333333333334,
          0.06616666666666667,
          0.012666666666666666
         ],
         "fill": "toself",
         "hovertemplate": "%{theta}: %{customdata:.3f}<extra></extra>",
         "name": "2020 Immanuel Quickley (PRBallHandler, Sim: 0.99)",
         "r": [
          1.0005,
          0.5108333333333334,
          0.39349999999999996,
          0.3961666666666667,
          0.08833333333333333,
          0.07633333333333334,
          0.06616666666666667,
          0.012666666666666666
         ],
         "theta": [
          "PPP",
          "EFG_%",
          "FG_%",
          "SCORE_POSS_%",
          "TOV_POSS_%",
          "FT_POSS_%",
          "SF_POSS_%",
          "PLUSONE_POSS_%"
         ],
         "type": "scatterpolar"
        }
       ],
       "layout": {
        "height": 800,
        "legend": {
         "font": {
          "size": 10
         },
         "itemwidth": 30,
         "orientation": "h",
         "x": 0.5,
         "xanchor": "center",
         "y": -0.15,
         "yanchor": "top"
        },
        "margin": {
         "b": 150,
         "l": 80,
         "r": 80,
         "t": 100
        },
        "polar": {
         "radialaxis": {
          "range": [
           0,
           1
          ],
          "showticklabels": false,
          "visible": true
         }
        },
        "template": {
         "data": {
          "bar": [
           {
            "error_x": {
             "color": "#2a3f5f"
            },
            "error_y": {
             "color": "#2a3f5f"
            },
            "marker": {
             "line": {
              "color": "#E5ECF6",
              "width": 0.5
             },
             "pattern": {
              "fillmode": "overlay",
              "size": 10,
              "solidity": 0.2
             }
            },
            "type": "bar"
           }
          ],
          "barpolar": [
           {
            "marker": {
             "line": {
              "color": "#E5ECF6",
              "width": 0.5
             },
             "pattern": {
              "fillmode": "overlay",
              "size": 10,
              "solidity": 0.2
             }
            },
            "type": "barpolar"
           }
          ],
          "carpet": [
           {
            "aaxis": {
             "endlinecolor": "#2a3f5f",
             "gridcolor": "white",
             "linecolor": "white",
             "minorgridcolor": "white",
             "startlinecolor": "#2a3f5f"
            },
            "baxis": {
             "endlinecolor": "#2a3f5f",
             "gridcolor": "white",
             "linecolor": "white",
             "minorgridcolor": "white",
             "startlinecolor": "#2a3f5f"
            },
            "type": "carpet"
           }
          ],
          "choropleth": [
           {
            "colorbar": {
             "outlinewidth": 0,
             "ticks": ""
            },
            "type": "choropleth"
           }
          ],
          "contour": [
           {
            "colorbar": {
             "outlinewidth": 0,
             "ticks": ""
            },
            "colorscale": [
             [
              0,
              "#0d0887"
             ],
             [
              0.1111111111111111,
              "#46039f"
             ],
             [
              0.2222222222222222,
              "#7201a8"
             ],
             [
              0.3333333333333333,
              "#9c179e"
             ],
             [
              0.4444444444444444,
              "#bd3786"
             ],
             [
              0.5555555555555556,
              "#d8576b"
             ],
             [
              0.6666666666666666,
              "#ed7953"
             ],
             [
              0.7777777777777778,
              "#fb9f3a"
             ],
             [
              0.8888888888888888,
              "#fdca26"
             ],
             [
              1,
              "#f0f921"
             ]
            ],
            "type": "contour"
           }
          ],
          "contourcarpet": [
           {
            "colorbar": {
             "outlinewidth": 0,
             "ticks": ""
            },
            "type": "contourcarpet"
           }
          ],
          "heatmap": [
           {
            "colorbar": {
             "outlinewidth": 0,
             "ticks": ""
            },
            "colorscale": [
             [
              0,
              "#0d0887"
             ],
             [
              0.1111111111111111,
              "#46039f"
             ],
             [
              0.2222222222222222,
              "#7201a8"
             ],
             [
              0.3333333333333333,
              "#9c179e"
             ],
             [
              0.4444444444444444,
              "#bd3786"
             ],
             [
              0.5555555555555556,
              "#d8576b"
             ],
             [
              0.6666666666666666,
              "#ed7953"
             ],
             [
              0.7777777777777778,
              "#fb9f3a"
             ],
             [
              0.8888888888888888,
              "#fdca26"
             ],
             [
              1,
              "#f0f921"
             ]
            ],
            "type": "heatmap"
           }
          ],
          "heatmapgl": [
           {
            "colorbar": {
             "outlinewidth": 0,
             "ticks": ""
            },
            "colorscale": [
             [
              0,
              "#0d0887"
             ],
             [
              0.1111111111111111,
              "#46039f"
             ],
             [
              0.2222222222222222,
              "#7201a8"
             ],
             [
              0.3333333333333333,
              "#9c179e"
             ],
             [
              0.4444444444444444,
              "#bd3786"
             ],
             [
              0.5555555555555556,
              "#d8576b"
             ],
             [
              0.6666666666666666,
              "#ed7953"
             ],
             [
              0.7777777777777778,
              "#fb9f3a"
             ],
             [
              0.8888888888888888,
              "#fdca26"
             ],
             [
              1,
              "#f0f921"
             ]
            ],
            "type": "heatmapgl"
           }
          ],
          "histogram": [
           {
            "marker": {
             "pattern": {
              "fillmode": "overlay",
              "size": 10,
              "solidity": 0.2
             }
            },
            "type": "histogram"
           }
          ],
          "histogram2d": [
           {
            "colorbar": {
             "outlinewidth": 0,
             "ticks": ""
            },
            "colorscale": [
             [
              0,
              "#0d0887"
             ],
             [
              0.1111111111111111,
              "#46039f"
             ],
             [
              0.2222222222222222,
              "#7201a8"
             ],
             [
              0.3333333333333333,
              "#9c179e"
             ],
             [
              0.4444444444444444,
              "#bd3786"
             ],
             [
              0.5555555555555556,
              "#d8576b"
             ],
             [
              0.6666666666666666,
              "#ed7953"
             ],
             [
              0.7777777777777778,
              "#fb9f3a"
             ],
             [
              0.8888888888888888,
              "#fdca26"
             ],
             [
              1,
              "#f0f921"
             ]
            ],
            "type": "histogram2d"
           }
          ],
          "histogram2dcontour": [
           {
            "colorbar": {
             "outlinewidth": 0,
             "ticks": ""
            },
            "colorscale": [
             [
              0,
              "#0d0887"
             ],
             [
              0.1111111111111111,
              "#46039f"
             ],
             [
              0.2222222222222222,
              "#7201a8"
             ],
             [
              0.3333333333333333,
              "#9c179e"
             ],
             [
              0.4444444444444444,
              "#bd3786"
             ],
             [
              0.5555555555555556,
              "#d8576b"
             ],
             [
              0.6666666666666666,
              "#ed7953"
             ],
             [
              0.7777777777777778,
              "#fb9f3a"
             ],
             [
              0.8888888888888888,
              "#fdca26"
             ],
             [
              1,
              "#f0f921"
             ]
            ],
            "type": "histogram2dcontour"
           }
          ],
          "mesh3d": [
           {
            "colorbar": {
             "outlinewidth": 0,
             "ticks": ""
            },
            "type": "mesh3d"
           }
          ],
          "parcoords": [
           {
            "line": {
             "colorbar": {
              "outlinewidth": 0,
              "ticks": ""
             }
            },
            "type": "parcoords"
           }
          ],
          "pie": [
           {
            "automargin": true,
            "type": "pie"
           }
          ],
          "scatter": [
           {
            "fillpattern": {
             "fillmode": "overlay",
             "size": 10,
             "solidity": 0.2
            },
            "type": "scatter"
           }
          ],
          "scatter3d": [
           {
            "line": {
             "colorbar": {
              "outlinewidth": 0,
              "ticks": ""
             }
            },
            "marker": {
             "colorbar": {
              "outlinewidth": 0,
              "ticks": ""
             }
            },
            "type": "scatter3d"
           }
          ],
          "scattercarpet": [
           {
            "marker": {
             "colorbar": {
              "outlinewidth": 0,
              "ticks": ""
             }
            },
            "type": "scattercarpet"
           }
          ],
          "scattergeo": [
           {
            "marker": {
             "colorbar": {
              "outlinewidth": 0,
              "ticks": ""
             }
            },
            "type": "scattergeo"
           }
          ],
          "scattergl": [
           {
            "marker": {
             "colorbar": {
              "outlinewidth": 0,
              "ticks": ""
             }
            },
            "type": "scattergl"
           }
          ],
          "scattermapbox": [
           {
            "marker": {
             "colorbar": {
              "outlinewidth": 0,
              "ticks": ""
             }
            },
            "type": "scattermapbox"
           }
          ],
          "scatterpolar": [
           {
            "marker": {
             "colorbar": {
              "outlinewidth": 0,
              "ticks": ""
             }
            },
            "type": "scatterpolar"
           }
          ],
          "scatterpolargl": [
           {
            "marker": {
             "colorbar": {
              "outlinewidth": 0,
              "ticks": ""
             }
            },
            "type": "scatterpolargl"
           }
          ],
          "scatterternary": [
           {
            "marker": {
             "colorbar": {
              "outlinewidth": 0,
              "ticks": ""
             }
            },
            "type": "scatterternary"
           }
          ],
          "surface": [
           {
            "colorbar": {
             "outlinewidth": 0,
             "ticks": ""
            },
            "colorscale": [
             [
              0,
              "#0d0887"
             ],
             [
              0.1111111111111111,
              "#46039f"
             ],
             [
              0.2222222222222222,
              "#7201a8"
             ],
             [
              0.3333333333333333,
              "#9c179e"
             ],
             [
              0.4444444444444444,
              "#bd3786"
             ],
             [
              0.5555555555555556,
              "#d8576b"
             ],
             [
              0.6666666666666666,
              "#ed7953"
             ],
             [
              0.7777777777777778,
              "#fb9f3a"
             ],
             [
              0.8888888888888888,
              "#fdca26"
             ],
             [
              1,
              "#f0f921"
             ]
            ],
            "type": "surface"
           }
          ],
          "table": [
           {
            "cells": {
             "fill": {
              "color": "#EBF0F8"
             },
             "line": {
              "color": "white"
             }
            },
            "header": {
             "fill": {
              "color": "#C8D4E3"
             },
             "line": {
              "color": "white"
             }
            },
            "type": "table"
           }
          ]
         },
         "layout": {
          "annotationdefaults": {
           "arrowcolor": "#2a3f5f",
           "arrowhead": 0,
           "arrowwidth": 1
          },
          "autotypenumbers": "strict",
          "coloraxis": {
           "colorbar": {
            "outlinewidth": 0,
            "ticks": ""
           }
          },
          "colorscale": {
           "diverging": [
            [
             0,
             "#8e0152"
            ],
            [
             0.1,
             "#c51b7d"
            ],
            [
             0.2,
             "#de77ae"
            ],
            [
             0.3,
             "#f1b6da"
            ],
            [
             0.4,
             "#fde0ef"
            ],
            [
             0.5,
             "#f7f7f7"
            ],
            [
             0.6,
             "#e6f5d0"
            ],
            [
             0.7,
             "#b8e186"
            ],
            [
             0.8,
             "#7fbc41"
            ],
            [
             0.9,
             "#4d9221"
            ],
            [
             1,
             "#276419"
            ]
           ],
           "sequential": [
            [
             0,
             "#0d0887"
            ],
            [
             0.1111111111111111,
             "#46039f"
            ],
            [
             0.2222222222222222,
             "#7201a8"
            ],
            [
             0.3333333333333333,
             "#9c179e"
            ],
            [
             0.4444444444444444,
             "#bd3786"
            ],
            [
             0.5555555555555556,
             "#d8576b"
            ],
            [
             0.6666666666666666,
             "#ed7953"
            ],
            [
             0.7777777777777778,
             "#fb9f3a"
            ],
            [
             0.8888888888888888,
             "#fdca26"
            ],
            [
             1,
             "#f0f921"
            ]
           ],
           "sequentialminus": [
            [
             0,
             "#0d0887"
            ],
            [
             0.1111111111111111,
             "#46039f"
            ],
            [
             0.2222222222222222,
             "#7201a8"
            ],
            [
             0.3333333333333333,
             "#9c179e"
            ],
            [
             0.4444444444444444,
             "#bd3786"
            ],
            [
             0.5555555555555556,
             "#d8576b"
            ],
            [
             0.6666666666666666,
             "#ed7953"
            ],
            [
             0.7777777777777778,
             "#fb9f3a"
            ],
            [
             0.8888888888888888,
             "#fdca26"
            ],
            [
             1,
             "#f0f921"
            ]
           ]
          },
          "colorway": [
           "#636efa",
           "#EF553B",
           "#00cc96",
           "#ab63fa",
           "#FFA15A",
           "#19d3f3",
           "#FF6692",
           "#B6E880",
           "#FF97FF",
           "#FECB52"
          ],
          "font": {
           "color": "#2a3f5f"
          },
          "geo": {
           "bgcolor": "white",
           "lakecolor": "white",
           "landcolor": "#E5ECF6",
           "showlakes": true,
           "showland": true,
           "subunitcolor": "white"
          },
          "hoverlabel": {
           "align": "left"
          },
          "hovermode": "closest",
          "mapbox": {
           "style": "light"
          },
          "paper_bgcolor": "white",
          "plot_bgcolor": "#E5ECF6",
          "polar": {
           "angularaxis": {
            "gridcolor": "white",
            "linecolor": "white",
            "ticks": ""
           },
           "bgcolor": "#E5ECF6",
           "radialaxis": {
            "gridcolor": "white",
            "linecolor": "white",
            "ticks": ""
           }
          },
          "scene": {
           "xaxis": {
            "backgroundcolor": "#E5ECF6",
            "gridcolor": "white",
            "gridwidth": 2,
            "linecolor": "white",
            "showbackground": true,
            "ticks": "",
            "zerolinecolor": "white"
           },
           "yaxis": {
            "backgroundcolor": "#E5ECF6",
            "gridcolor": "white",
            "gridwidth": 2,
            "linecolor": "white",
            "showbackground": true,
            "ticks": "",
            "zerolinecolor": "white"
           },
           "zaxis": {
            "backgroundcolor": "#E5ECF6",
            "gridcolor": "white",
            "gridwidth": 2,
            "linecolor": "white",
            "showbackground": true,
            "ticks": "",
            "zerolinecolor": "white"
           }
          },
          "shapedefaults": {
           "line": {
            "color": "#2a3f5f"
           }
          },
          "ternary": {
           "aaxis": {
            "gridcolor": "white",
            "linecolor": "white",
            "ticks": ""
           },
           "baxis": {
            "gridcolor": "white",
            "linecolor": "white",
            "ticks": ""
           },
           "bgcolor": "#E5ECF6",
           "caxis": {
            "gridcolor": "white",
            "linecolor": "white",
            "ticks": ""
           }
          },
          "title": {
           "x": 0.05
          },
          "xaxis": {
           "automargin": true,
           "gridcolor": "white",
           "linecolor": "white",
           "ticks": "",
           "title": {
            "standoff": 15
           },
           "zerolinecolor": "white",
           "zerolinewidth": 2
          },
          "yaxis": {
           "automargin": true,
           "gridcolor": "white",
           "linecolor": "white",
           "ticks": "",
           "title": {
            "standoff": 15
           },
           "zerolinecolor": "white",
           "zerolinewidth": 2
          }
         }
        },
        "title": {
         "font": {
          "size": 18
         },
         "text": "<b>2023 Zach LaVine vs 5 Most Similar Players</b><br><sup>Average Across All Playstyles</sup>",
         "x": 0.5
        },
        "width": 800
       }
      }
     },
     "metadata": {},
     "output_type": "display_data"
    }
   ],
   "source": [
    "fig.show()"
   ]
  }
 ],
 "metadata": {
  "kernelspec": {
   "display_name": "ds",
   "language": "python",
   "name": "python3"
  },
  "language_info": {
   "codemirror_mode": {
    "name": "ipython",
    "version": 3
   },
   "file_extension": ".py",
   "mimetype": "text/x-python",
   "name": "python",
   "nbconvert_exporter": "python",
   "pygments_lexer": "ipython3",
   "version": "3.9.18"
  }
 },
 "nbformat": 4,
 "nbformat_minor": 2
}
